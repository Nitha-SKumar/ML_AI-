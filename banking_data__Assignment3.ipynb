{
  "cells": [
    {
      "cell_type": "markdown",
      "source": [
        "## Importing Libraries"
      ],
      "metadata": {
        "id": "SAL22gVavRqW"
      },
      "id": "SAL22gVavRqW"
    },
    {
      "cell_type": "code",
      "execution_count": 133,
      "metadata": {
        "id": "50e734bb"
      },
      "outputs": [],
      "source": [
        "import numpy as np\n",
        "import pandas as pd\n",
        "import matplotlib.pyplot as plt\n",
        "import seaborn as sns\n",
        "%matplotlib inline"
      ],
      "id": "50e734bb"
    },
    {
      "cell_type": "markdown",
      "source": [
        "## Loading the dataset"
      ],
      "metadata": {
        "id": "RTVp9CxvvLzG"
      },
      "id": "RTVp9CxvvLzG"
    },
    {
      "cell_type": "code",
      "execution_count": 134,
      "metadata": {
        "id": "7a9b1dc7"
      },
      "outputs": [],
      "source": [
        "data = pd.read_csv(\"loan_dataset.csv\")"
      ],
      "id": "7a9b1dc7"
    },
    {
      "cell_type": "code",
      "execution_count": 135,
      "metadata": {
        "colab": {
          "base_uri": "https://localhost:8080/",
          "height": 317
        },
        "id": "fb285c56",
        "outputId": "c8038824-1668-41d2-d225-d92becc25707"
      },
      "outputs": [
        {
          "output_type": "execute_result",
          "data": {
            "text/plain": [
              "        loan_id source       financial_institution  interest_rate  \\\n",
              "0  268055008619      Z  Turner, Baldwin and Rhodes          4.250   \n",
              "1  672831657627      Y  Swanson, Newton and Miller          4.875   \n",
              "2  742515242108      Z              Thornton-Davis          3.250   \n",
              "3  601385667462      X                       OTHER          4.750   \n",
              "4  273870029961      X                       OTHER          4.750   \n",
              "\n",
              "   unpaid_principal_bal  loan_term origination_date first_payment_date  \\\n",
              "0                214000        360       2012-03-01            05/2012   \n",
              "1                144000        360       2012-01-01            03/2012   \n",
              "2                366000        180       2012-01-01            03/2012   \n",
              "3                135000        360       2012-02-01            04/2012   \n",
              "4                124000        360       2012-02-01            04/2012   \n",
              "\n",
              "   loan_to_value  number_of_borrowers  ...  m4  m5 m6  m7  m8  m9  m10  m11  \\\n",
              "0             95                  1.0  ...   0   0  0   1   0   0    0    0   \n",
              "1             72                  1.0  ...   0   0  0   0   0   0    0    1   \n",
              "2             49                  1.0  ...   0   0  0   0   0   0    0    0   \n",
              "3             46                  2.0  ...   0   0  0   0   0   1    1    1   \n",
              "4             80                  1.0  ...   3   4  5   6   7   8    9   10   \n",
              "\n",
              "   m12  m13  \n",
              "0    0    1  \n",
              "1    0    1  \n",
              "2    0    1  \n",
              "3    1    1  \n",
              "4   11    1  \n",
              "\n",
              "[5 rows x 29 columns]"
            ],
            "text/html": [
              "\n",
              "  <div id=\"df-83c51bb5-bd5b-4213-8156-bf04e75a52ad\">\n",
              "    <div class=\"colab-df-container\">\n",
              "      <div>\n",
              "<style scoped>\n",
              "    .dataframe tbody tr th:only-of-type {\n",
              "        vertical-align: middle;\n",
              "    }\n",
              "\n",
              "    .dataframe tbody tr th {\n",
              "        vertical-align: top;\n",
              "    }\n",
              "\n",
              "    .dataframe thead th {\n",
              "        text-align: right;\n",
              "    }\n",
              "</style>\n",
              "<table border=\"1\" class=\"dataframe\">\n",
              "  <thead>\n",
              "    <tr style=\"text-align: right;\">\n",
              "      <th></th>\n",
              "      <th>loan_id</th>\n",
              "      <th>source</th>\n",
              "      <th>financial_institution</th>\n",
              "      <th>interest_rate</th>\n",
              "      <th>unpaid_principal_bal</th>\n",
              "      <th>loan_term</th>\n",
              "      <th>origination_date</th>\n",
              "      <th>first_payment_date</th>\n",
              "      <th>loan_to_value</th>\n",
              "      <th>number_of_borrowers</th>\n",
              "      <th>...</th>\n",
              "      <th>m4</th>\n",
              "      <th>m5</th>\n",
              "      <th>m6</th>\n",
              "      <th>m7</th>\n",
              "      <th>m8</th>\n",
              "      <th>m9</th>\n",
              "      <th>m10</th>\n",
              "      <th>m11</th>\n",
              "      <th>m12</th>\n",
              "      <th>m13</th>\n",
              "    </tr>\n",
              "  </thead>\n",
              "  <tbody>\n",
              "    <tr>\n",
              "      <th>0</th>\n",
              "      <td>268055008619</td>\n",
              "      <td>Z</td>\n",
              "      <td>Turner, Baldwin and Rhodes</td>\n",
              "      <td>4.250</td>\n",
              "      <td>214000</td>\n",
              "      <td>360</td>\n",
              "      <td>2012-03-01</td>\n",
              "      <td>05/2012</td>\n",
              "      <td>95</td>\n",
              "      <td>1.0</td>\n",
              "      <td>...</td>\n",
              "      <td>0</td>\n",
              "      <td>0</td>\n",
              "      <td>0</td>\n",
              "      <td>1</td>\n",
              "      <td>0</td>\n",
              "      <td>0</td>\n",
              "      <td>0</td>\n",
              "      <td>0</td>\n",
              "      <td>0</td>\n",
              "      <td>1</td>\n",
              "    </tr>\n",
              "    <tr>\n",
              "      <th>1</th>\n",
              "      <td>672831657627</td>\n",
              "      <td>Y</td>\n",
              "      <td>Swanson, Newton and Miller</td>\n",
              "      <td>4.875</td>\n",
              "      <td>144000</td>\n",
              "      <td>360</td>\n",
              "      <td>2012-01-01</td>\n",
              "      <td>03/2012</td>\n",
              "      <td>72</td>\n",
              "      <td>1.0</td>\n",
              "      <td>...</td>\n",
              "      <td>0</td>\n",
              "      <td>0</td>\n",
              "      <td>0</td>\n",
              "      <td>0</td>\n",
              "      <td>0</td>\n",
              "      <td>0</td>\n",
              "      <td>0</td>\n",
              "      <td>1</td>\n",
              "      <td>0</td>\n",
              "      <td>1</td>\n",
              "    </tr>\n",
              "    <tr>\n",
              "      <th>2</th>\n",
              "      <td>742515242108</td>\n",
              "      <td>Z</td>\n",
              "      <td>Thornton-Davis</td>\n",
              "      <td>3.250</td>\n",
              "      <td>366000</td>\n",
              "      <td>180</td>\n",
              "      <td>2012-01-01</td>\n",
              "      <td>03/2012</td>\n",
              "      <td>49</td>\n",
              "      <td>1.0</td>\n",
              "      <td>...</td>\n",
              "      <td>0</td>\n",
              "      <td>0</td>\n",
              "      <td>0</td>\n",
              "      <td>0</td>\n",
              "      <td>0</td>\n",
              "      <td>0</td>\n",
              "      <td>0</td>\n",
              "      <td>0</td>\n",
              "      <td>0</td>\n",
              "      <td>1</td>\n",
              "    </tr>\n",
              "    <tr>\n",
              "      <th>3</th>\n",
              "      <td>601385667462</td>\n",
              "      <td>X</td>\n",
              "      <td>OTHER</td>\n",
              "      <td>4.750</td>\n",
              "      <td>135000</td>\n",
              "      <td>360</td>\n",
              "      <td>2012-02-01</td>\n",
              "      <td>04/2012</td>\n",
              "      <td>46</td>\n",
              "      <td>2.0</td>\n",
              "      <td>...</td>\n",
              "      <td>0</td>\n",
              "      <td>0</td>\n",
              "      <td>0</td>\n",
              "      <td>0</td>\n",
              "      <td>0</td>\n",
              "      <td>1</td>\n",
              "      <td>1</td>\n",
              "      <td>1</td>\n",
              "      <td>1</td>\n",
              "      <td>1</td>\n",
              "    </tr>\n",
              "    <tr>\n",
              "      <th>4</th>\n",
              "      <td>273870029961</td>\n",
              "      <td>X</td>\n",
              "      <td>OTHER</td>\n",
              "      <td>4.750</td>\n",
              "      <td>124000</td>\n",
              "      <td>360</td>\n",
              "      <td>2012-02-01</td>\n",
              "      <td>04/2012</td>\n",
              "      <td>80</td>\n",
              "      <td>1.0</td>\n",
              "      <td>...</td>\n",
              "      <td>3</td>\n",
              "      <td>4</td>\n",
              "      <td>5</td>\n",
              "      <td>6</td>\n",
              "      <td>7</td>\n",
              "      <td>8</td>\n",
              "      <td>9</td>\n",
              "      <td>10</td>\n",
              "      <td>11</td>\n",
              "      <td>1</td>\n",
              "    </tr>\n",
              "  </tbody>\n",
              "</table>\n",
              "<p>5 rows × 29 columns</p>\n",
              "</div>\n",
              "      <button class=\"colab-df-convert\" onclick=\"convertToInteractive('df-83c51bb5-bd5b-4213-8156-bf04e75a52ad')\"\n",
              "              title=\"Convert this dataframe to an interactive table.\"\n",
              "              style=\"display:none;\">\n",
              "        \n",
              "  <svg xmlns=\"http://www.w3.org/2000/svg\" height=\"24px\"viewBox=\"0 0 24 24\"\n",
              "       width=\"24px\">\n",
              "    <path d=\"M0 0h24v24H0V0z\" fill=\"none\"/>\n",
              "    <path d=\"M18.56 5.44l.94 2.06.94-2.06 2.06-.94-2.06-.94-.94-2.06-.94 2.06-2.06.94zm-11 1L8.5 8.5l.94-2.06 2.06-.94-2.06-.94L8.5 2.5l-.94 2.06-2.06.94zm10 10l.94 2.06.94-2.06 2.06-.94-2.06-.94-.94-2.06-.94 2.06-2.06.94z\"/><path d=\"M17.41 7.96l-1.37-1.37c-.4-.4-.92-.59-1.43-.59-.52 0-1.04.2-1.43.59L10.3 9.45l-7.72 7.72c-.78.78-.78 2.05 0 2.83L4 21.41c.39.39.9.59 1.41.59.51 0 1.02-.2 1.41-.59l7.78-7.78 2.81-2.81c.8-.78.8-2.07 0-2.86zM5.41 20L4 18.59l7.72-7.72 1.47 1.35L5.41 20z\"/>\n",
              "  </svg>\n",
              "      </button>\n",
              "      \n",
              "  <style>\n",
              "    .colab-df-container {\n",
              "      display:flex;\n",
              "      flex-wrap:wrap;\n",
              "      gap: 12px;\n",
              "    }\n",
              "\n",
              "    .colab-df-convert {\n",
              "      background-color: #E8F0FE;\n",
              "      border: none;\n",
              "      border-radius: 50%;\n",
              "      cursor: pointer;\n",
              "      display: none;\n",
              "      fill: #1967D2;\n",
              "      height: 32px;\n",
              "      padding: 0 0 0 0;\n",
              "      width: 32px;\n",
              "    }\n",
              "\n",
              "    .colab-df-convert:hover {\n",
              "      background-color: #E2EBFA;\n",
              "      box-shadow: 0px 1px 2px rgba(60, 64, 67, 0.3), 0px 1px 3px 1px rgba(60, 64, 67, 0.15);\n",
              "      fill: #174EA6;\n",
              "    }\n",
              "\n",
              "    [theme=dark] .colab-df-convert {\n",
              "      background-color: #3B4455;\n",
              "      fill: #D2E3FC;\n",
              "    }\n",
              "\n",
              "    [theme=dark] .colab-df-convert:hover {\n",
              "      background-color: #434B5C;\n",
              "      box-shadow: 0px 1px 3px 1px rgba(0, 0, 0, 0.15);\n",
              "      filter: drop-shadow(0px 1px 2px rgba(0, 0, 0, 0.3));\n",
              "      fill: #FFFFFF;\n",
              "    }\n",
              "  </style>\n",
              "\n",
              "      <script>\n",
              "        const buttonEl =\n",
              "          document.querySelector('#df-83c51bb5-bd5b-4213-8156-bf04e75a52ad button.colab-df-convert');\n",
              "        buttonEl.style.display =\n",
              "          google.colab.kernel.accessAllowed ? 'block' : 'none';\n",
              "\n",
              "        async function convertToInteractive(key) {\n",
              "          const element = document.querySelector('#df-83c51bb5-bd5b-4213-8156-bf04e75a52ad');\n",
              "          const dataTable =\n",
              "            await google.colab.kernel.invokeFunction('convertToInteractive',\n",
              "                                                     [key], {});\n",
              "          if (!dataTable) return;\n",
              "\n",
              "          const docLinkHtml = 'Like what you see? Visit the ' +\n",
              "            '<a target=\"_blank\" href=https://colab.research.google.com/notebooks/data_table.ipynb>data table notebook</a>'\n",
              "            + ' to learn more about interactive tables.';\n",
              "          element.innerHTML = '';\n",
              "          dataTable['output_type'] = 'display_data';\n",
              "          await google.colab.output.renderOutput(dataTable, element);\n",
              "          const docLink = document.createElement('div');\n",
              "          docLink.innerHTML = docLinkHtml;\n",
              "          element.appendChild(docLink);\n",
              "        }\n",
              "      </script>\n",
              "    </div>\n",
              "  </div>\n",
              "  "
            ]
          },
          "metadata": {},
          "execution_count": 135
        }
      ],
      "source": [
        "data.head()"
      ],
      "id": "fb285c56"
    },
    {
      "cell_type": "code",
      "execution_count": 136,
      "metadata": {
        "colab": {
          "base_uri": "https://localhost:8080/",
          "height": 300
        },
        "id": "e89c621e",
        "outputId": "cc015a56-4546-42a7-cdac-cccc91ba27c4"
      },
      "outputs": [
        {
          "output_type": "execute_result",
          "data": {
            "text/plain": [
              "             loan_id source financial_institution  interest_rate  \\\n",
              "116053  382119962287      Y         Browning-Hart          4.125   \n",
              "116054  582803915466      Z                 OTHER          3.000   \n",
              "116055  837922316947      X                 OTHER          3.875   \n",
              "116056  477343182138      X                 OTHER          4.250   \n",
              "116057  763308490661      Z        Thornton-Davis          3.375   \n",
              "\n",
              "        unpaid_principal_bal  loan_term origination_date first_payment_date  \\\n",
              "116053                153000        360       2012-02-01            04/2012   \n",
              "116054                150000        120       2012-01-01            03/2012   \n",
              "116055                166000        360       2012-02-01            04/2012   \n",
              "116056                169000        360       2012-02-01            04/2012   \n",
              "116057                252000        180       2012-01-01            03/2012   \n",
              "\n",
              "        loan_to_value  number_of_borrowers  ...  m4  m5 m6  m7  m8  m9  m10  \\\n",
              "116053             88                  2.0  ...   0   0  0   0   0   0    0   \n",
              "116054             35                  1.0  ...   0   0  0   0   0   0    0   \n",
              "116055             58                  2.0  ...   0   0  0   0   0   0    0   \n",
              "116056             74                  2.0  ...   0   0  0   0   0   0    0   \n",
              "116057             29                  2.0  ...   0   0  0   0   0   0    0   \n",
              "\n",
              "        m11  m12  m13  \n",
              "116053    0    0    0  \n",
              "116054    0    0    0  \n",
              "116055    0    0    0  \n",
              "116056    0    0    0  \n",
              "116057    0    0    0  \n",
              "\n",
              "[5 rows x 29 columns]"
            ],
            "text/html": [
              "\n",
              "  <div id=\"df-974edc67-82a1-4bae-8cbe-a663816e9a41\">\n",
              "    <div class=\"colab-df-container\">\n",
              "      <div>\n",
              "<style scoped>\n",
              "    .dataframe tbody tr th:only-of-type {\n",
              "        vertical-align: middle;\n",
              "    }\n",
              "\n",
              "    .dataframe tbody tr th {\n",
              "        vertical-align: top;\n",
              "    }\n",
              "\n",
              "    .dataframe thead th {\n",
              "        text-align: right;\n",
              "    }\n",
              "</style>\n",
              "<table border=\"1\" class=\"dataframe\">\n",
              "  <thead>\n",
              "    <tr style=\"text-align: right;\">\n",
              "      <th></th>\n",
              "      <th>loan_id</th>\n",
              "      <th>source</th>\n",
              "      <th>financial_institution</th>\n",
              "      <th>interest_rate</th>\n",
              "      <th>unpaid_principal_bal</th>\n",
              "      <th>loan_term</th>\n",
              "      <th>origination_date</th>\n",
              "      <th>first_payment_date</th>\n",
              "      <th>loan_to_value</th>\n",
              "      <th>number_of_borrowers</th>\n",
              "      <th>...</th>\n",
              "      <th>m4</th>\n",
              "      <th>m5</th>\n",
              "      <th>m6</th>\n",
              "      <th>m7</th>\n",
              "      <th>m8</th>\n",
              "      <th>m9</th>\n",
              "      <th>m10</th>\n",
              "      <th>m11</th>\n",
              "      <th>m12</th>\n",
              "      <th>m13</th>\n",
              "    </tr>\n",
              "  </thead>\n",
              "  <tbody>\n",
              "    <tr>\n",
              "      <th>116053</th>\n",
              "      <td>382119962287</td>\n",
              "      <td>Y</td>\n",
              "      <td>Browning-Hart</td>\n",
              "      <td>4.125</td>\n",
              "      <td>153000</td>\n",
              "      <td>360</td>\n",
              "      <td>2012-02-01</td>\n",
              "      <td>04/2012</td>\n",
              "      <td>88</td>\n",
              "      <td>2.0</td>\n",
              "      <td>...</td>\n",
              "      <td>0</td>\n",
              "      <td>0</td>\n",
              "      <td>0</td>\n",
              "      <td>0</td>\n",
              "      <td>0</td>\n",
              "      <td>0</td>\n",
              "      <td>0</td>\n",
              "      <td>0</td>\n",
              "      <td>0</td>\n",
              "      <td>0</td>\n",
              "    </tr>\n",
              "    <tr>\n",
              "      <th>116054</th>\n",
              "      <td>582803915466</td>\n",
              "      <td>Z</td>\n",
              "      <td>OTHER</td>\n",
              "      <td>3.000</td>\n",
              "      <td>150000</td>\n",
              "      <td>120</td>\n",
              "      <td>2012-01-01</td>\n",
              "      <td>03/2012</td>\n",
              "      <td>35</td>\n",
              "      <td>1.0</td>\n",
              "      <td>...</td>\n",
              "      <td>0</td>\n",
              "      <td>0</td>\n",
              "      <td>0</td>\n",
              "      <td>0</td>\n",
              "      <td>0</td>\n",
              "      <td>0</td>\n",
              "      <td>0</td>\n",
              "      <td>0</td>\n",
              "      <td>0</td>\n",
              "      <td>0</td>\n",
              "    </tr>\n",
              "    <tr>\n",
              "      <th>116055</th>\n",
              "      <td>837922316947</td>\n",
              "      <td>X</td>\n",
              "      <td>OTHER</td>\n",
              "      <td>3.875</td>\n",
              "      <td>166000</td>\n",
              "      <td>360</td>\n",
              "      <td>2012-02-01</td>\n",
              "      <td>04/2012</td>\n",
              "      <td>58</td>\n",
              "      <td>2.0</td>\n",
              "      <td>...</td>\n",
              "      <td>0</td>\n",
              "      <td>0</td>\n",
              "      <td>0</td>\n",
              "      <td>0</td>\n",
              "      <td>0</td>\n",
              "      <td>0</td>\n",
              "      <td>0</td>\n",
              "      <td>0</td>\n",
              "      <td>0</td>\n",
              "      <td>0</td>\n",
              "    </tr>\n",
              "    <tr>\n",
              "      <th>116056</th>\n",
              "      <td>477343182138</td>\n",
              "      <td>X</td>\n",
              "      <td>OTHER</td>\n",
              "      <td>4.250</td>\n",
              "      <td>169000</td>\n",
              "      <td>360</td>\n",
              "      <td>2012-02-01</td>\n",
              "      <td>04/2012</td>\n",
              "      <td>74</td>\n",
              "      <td>2.0</td>\n",
              "      <td>...</td>\n",
              "      <td>0</td>\n",
              "      <td>0</td>\n",
              "      <td>0</td>\n",
              "      <td>0</td>\n",
              "      <td>0</td>\n",
              "      <td>0</td>\n",
              "      <td>0</td>\n",
              "      <td>0</td>\n",
              "      <td>0</td>\n",
              "      <td>0</td>\n",
              "    </tr>\n",
              "    <tr>\n",
              "      <th>116057</th>\n",
              "      <td>763308490661</td>\n",
              "      <td>Z</td>\n",
              "      <td>Thornton-Davis</td>\n",
              "      <td>3.375</td>\n",
              "      <td>252000</td>\n",
              "      <td>180</td>\n",
              "      <td>2012-01-01</td>\n",
              "      <td>03/2012</td>\n",
              "      <td>29</td>\n",
              "      <td>2.0</td>\n",
              "      <td>...</td>\n",
              "      <td>0</td>\n",
              "      <td>0</td>\n",
              "      <td>0</td>\n",
              "      <td>0</td>\n",
              "      <td>0</td>\n",
              "      <td>0</td>\n",
              "      <td>0</td>\n",
              "      <td>0</td>\n",
              "      <td>0</td>\n",
              "      <td>0</td>\n",
              "    </tr>\n",
              "  </tbody>\n",
              "</table>\n",
              "<p>5 rows × 29 columns</p>\n",
              "</div>\n",
              "      <button class=\"colab-df-convert\" onclick=\"convertToInteractive('df-974edc67-82a1-4bae-8cbe-a663816e9a41')\"\n",
              "              title=\"Convert this dataframe to an interactive table.\"\n",
              "              style=\"display:none;\">\n",
              "        \n",
              "  <svg xmlns=\"http://www.w3.org/2000/svg\" height=\"24px\"viewBox=\"0 0 24 24\"\n",
              "       width=\"24px\">\n",
              "    <path d=\"M0 0h24v24H0V0z\" fill=\"none\"/>\n",
              "    <path d=\"M18.56 5.44l.94 2.06.94-2.06 2.06-.94-2.06-.94-.94-2.06-.94 2.06-2.06.94zm-11 1L8.5 8.5l.94-2.06 2.06-.94-2.06-.94L8.5 2.5l-.94 2.06-2.06.94zm10 10l.94 2.06.94-2.06 2.06-.94-2.06-.94-.94-2.06-.94 2.06-2.06.94z\"/><path d=\"M17.41 7.96l-1.37-1.37c-.4-.4-.92-.59-1.43-.59-.52 0-1.04.2-1.43.59L10.3 9.45l-7.72 7.72c-.78.78-.78 2.05 0 2.83L4 21.41c.39.39.9.59 1.41.59.51 0 1.02-.2 1.41-.59l7.78-7.78 2.81-2.81c.8-.78.8-2.07 0-2.86zM5.41 20L4 18.59l7.72-7.72 1.47 1.35L5.41 20z\"/>\n",
              "  </svg>\n",
              "      </button>\n",
              "      \n",
              "  <style>\n",
              "    .colab-df-container {\n",
              "      display:flex;\n",
              "      flex-wrap:wrap;\n",
              "      gap: 12px;\n",
              "    }\n",
              "\n",
              "    .colab-df-convert {\n",
              "      background-color: #E8F0FE;\n",
              "      border: none;\n",
              "      border-radius: 50%;\n",
              "      cursor: pointer;\n",
              "      display: none;\n",
              "      fill: #1967D2;\n",
              "      height: 32px;\n",
              "      padding: 0 0 0 0;\n",
              "      width: 32px;\n",
              "    }\n",
              "\n",
              "    .colab-df-convert:hover {\n",
              "      background-color: #E2EBFA;\n",
              "      box-shadow: 0px 1px 2px rgba(60, 64, 67, 0.3), 0px 1px 3px 1px rgba(60, 64, 67, 0.15);\n",
              "      fill: #174EA6;\n",
              "    }\n",
              "\n",
              "    [theme=dark] .colab-df-convert {\n",
              "      background-color: #3B4455;\n",
              "      fill: #D2E3FC;\n",
              "    }\n",
              "\n",
              "    [theme=dark] .colab-df-convert:hover {\n",
              "      background-color: #434B5C;\n",
              "      box-shadow: 0px 1px 3px 1px rgba(0, 0, 0, 0.15);\n",
              "      filter: drop-shadow(0px 1px 2px rgba(0, 0, 0, 0.3));\n",
              "      fill: #FFFFFF;\n",
              "    }\n",
              "  </style>\n",
              "\n",
              "      <script>\n",
              "        const buttonEl =\n",
              "          document.querySelector('#df-974edc67-82a1-4bae-8cbe-a663816e9a41 button.colab-df-convert');\n",
              "        buttonEl.style.display =\n",
              "          google.colab.kernel.accessAllowed ? 'block' : 'none';\n",
              "\n",
              "        async function convertToInteractive(key) {\n",
              "          const element = document.querySelector('#df-974edc67-82a1-4bae-8cbe-a663816e9a41');\n",
              "          const dataTable =\n",
              "            await google.colab.kernel.invokeFunction('convertToInteractive',\n",
              "                                                     [key], {});\n",
              "          if (!dataTable) return;\n",
              "\n",
              "          const docLinkHtml = 'Like what you see? Visit the ' +\n",
              "            '<a target=\"_blank\" href=https://colab.research.google.com/notebooks/data_table.ipynb>data table notebook</a>'\n",
              "            + ' to learn more about interactive tables.';\n",
              "          element.innerHTML = '';\n",
              "          dataTable['output_type'] = 'display_data';\n",
              "          await google.colab.output.renderOutput(dataTable, element);\n",
              "          const docLink = document.createElement('div');\n",
              "          docLink.innerHTML = docLinkHtml;\n",
              "          element.appendChild(docLink);\n",
              "        }\n",
              "      </script>\n",
              "    </div>\n",
              "  </div>\n",
              "  "
            ]
          },
          "metadata": {},
          "execution_count": 136
        }
      ],
      "source": [
        "data.tail()"
      ],
      "id": "e89c621e"
    },
    {
      "cell_type": "code",
      "execution_count": 137,
      "metadata": {
        "colab": {
          "base_uri": "https://localhost:8080/"
        },
        "id": "a49d5238",
        "outputId": "5187de58-2c5a-4fc8-eb3b-293bd5f7b729"
      },
      "outputs": [
        {
          "output_type": "execute_result",
          "data": {
            "text/plain": [
              "(116058, 29)"
            ]
          },
          "metadata": {},
          "execution_count": 137
        }
      ],
      "source": [
        "data.shape"
      ],
      "id": "a49d5238"
    },
    {
      "cell_type": "code",
      "execution_count": 138,
      "metadata": {
        "colab": {
          "base_uri": "https://localhost:8080/"
        },
        "id": "153610af",
        "outputId": "169c9402-b226-43d8-e8b3-d4918cbe9e42"
      },
      "outputs": [
        {
          "output_type": "execute_result",
          "data": {
            "text/plain": [
              "Index(['loan_id', 'source', 'financial_institution', 'interest_rate',\n",
              "       'unpaid_principal_bal', 'loan_term', 'origination_date',\n",
              "       'first_payment_date', 'loan_to_value', 'number_of_borrowers',\n",
              "       'debt_to_income_ratio', 'borrower_credit_score', 'loan_purpose',\n",
              "       'insurance_percent', 'co-borrower_credit_score', 'insurance_type', 'm1',\n",
              "       'm2', 'm3', 'm4', 'm5', 'm6', 'm7', 'm8', 'm9', 'm10', 'm11', 'm12',\n",
              "       'm13'],\n",
              "      dtype='object')"
            ]
          },
          "metadata": {},
          "execution_count": 138
        }
      ],
      "source": [
        "data.columns"
      ],
      "id": "153610af"
    },
    {
      "cell_type": "code",
      "execution_count": 139,
      "metadata": {
        "colab": {
          "base_uri": "https://localhost:8080/"
        },
        "id": "7ba652d5",
        "outputId": "b5b3084b-433b-4468-c9cc-01cbd2f0f2e4"
      },
      "outputs": [
        {
          "output_type": "execute_result",
          "data": {
            "text/plain": [
              "loan_id                     0\n",
              "source                      0\n",
              "financial_institution       0\n",
              "interest_rate               0\n",
              "unpaid_principal_bal        0\n",
              "loan_term                   0\n",
              "origination_date            0\n",
              "first_payment_date          0\n",
              "loan_to_value               0\n",
              "number_of_borrowers         0\n",
              "debt_to_income_ratio        0\n",
              "borrower_credit_score       0\n",
              "loan_purpose                0\n",
              "insurance_percent           0\n",
              "co-borrower_credit_score    0\n",
              "insurance_type              0\n",
              "m1                          0\n",
              "m2                          0\n",
              "m3                          0\n",
              "m4                          0\n",
              "m5                          0\n",
              "m6                          0\n",
              "m7                          0\n",
              "m8                          0\n",
              "m9                          0\n",
              "m10                         0\n",
              "m11                         0\n",
              "m12                         0\n",
              "m13                         0\n",
              "dtype: int64"
            ]
          },
          "metadata": {},
          "execution_count": 139
        }
      ],
      "source": [
        "data.isna().sum()"
      ],
      "id": "7ba652d5"
    },
    {
      "cell_type": "code",
      "execution_count": 140,
      "metadata": {
        "colab": {
          "base_uri": "https://localhost:8080/"
        },
        "id": "5980278b",
        "outputId": "35b268a0-5277-4dae-aba0-bdc195d87df1"
      },
      "outputs": [
        {
          "output_type": "stream",
          "name": "stdout",
          "text": [
            "<class 'pandas.core.frame.DataFrame'>\n",
            "RangeIndex: 116058 entries, 0 to 116057\n",
            "Data columns (total 29 columns):\n",
            " #   Column                    Non-Null Count   Dtype  \n",
            "---  ------                    --------------   -----  \n",
            " 0   loan_id                   116058 non-null  int64  \n",
            " 1   source                    116058 non-null  object \n",
            " 2   financial_institution     116058 non-null  object \n",
            " 3   interest_rate             116058 non-null  float64\n",
            " 4   unpaid_principal_bal      116058 non-null  int64  \n",
            " 5   loan_term                 116058 non-null  int64  \n",
            " 6   origination_date          116058 non-null  object \n",
            " 7   first_payment_date        116058 non-null  object \n",
            " 8   loan_to_value             116058 non-null  int64  \n",
            " 9   number_of_borrowers       116058 non-null  float64\n",
            " 10  debt_to_income_ratio      116058 non-null  float64\n",
            " 11  borrower_credit_score     116058 non-null  float64\n",
            " 12  loan_purpose              116058 non-null  object \n",
            " 13  insurance_percent         116058 non-null  float64\n",
            " 14  co-borrower_credit_score  116058 non-null  float64\n",
            " 15  insurance_type            116058 non-null  float64\n",
            " 16  m1                        116058 non-null  int64  \n",
            " 17  m2                        116058 non-null  int64  \n",
            " 18  m3                        116058 non-null  int64  \n",
            " 19  m4                        116058 non-null  int64  \n",
            " 20  m5                        116058 non-null  int64  \n",
            " 21  m6                        116058 non-null  int64  \n",
            " 22  m7                        116058 non-null  int64  \n",
            " 23  m8                        116058 non-null  int64  \n",
            " 24  m9                        116058 non-null  int64  \n",
            " 25  m10                       116058 non-null  int64  \n",
            " 26  m11                       116058 non-null  int64  \n",
            " 27  m12                       116058 non-null  int64  \n",
            " 28  m13                       116058 non-null  int64  \n",
            "dtypes: float64(7), int64(17), object(5)\n",
            "memory usage: 25.7+ MB\n"
          ]
        }
      ],
      "source": [
        "data.info()"
      ],
      "id": "5980278b"
    },
    {
      "cell_type": "code",
      "execution_count": 141,
      "metadata": {
        "colab": {
          "base_uri": "https://localhost:8080/"
        },
        "id": "36c957e4",
        "outputId": "88505d9c-496f-4481-8dfa-8c5c49bf182e"
      },
      "outputs": [
        {
          "output_type": "execute_result",
          "data": {
            "text/plain": [
              "loan_id                     0\n",
              "source                      0\n",
              "financial_institution       0\n",
              "interest_rate               0\n",
              "unpaid_principal_bal        0\n",
              "loan_term                   0\n",
              "origination_date            0\n",
              "first_payment_date          0\n",
              "loan_to_value               0\n",
              "number_of_borrowers         0\n",
              "debt_to_income_ratio        0\n",
              "borrower_credit_score       0\n",
              "loan_purpose                0\n",
              "insurance_percent           0\n",
              "co-borrower_credit_score    0\n",
              "insurance_type              0\n",
              "m1                          0\n",
              "m2                          0\n",
              "m3                          0\n",
              "m4                          0\n",
              "m5                          0\n",
              "m6                          0\n",
              "m7                          0\n",
              "m8                          0\n",
              "m9                          0\n",
              "m10                         0\n",
              "m11                         0\n",
              "m12                         0\n",
              "m13                         0\n",
              "dtype: int64"
            ]
          },
          "metadata": {},
          "execution_count": 141
        }
      ],
      "source": [
        "data.isna().sum()"
      ],
      "id": "36c957e4"
    },
    {
      "cell_type": "code",
      "source": [
        "freqgraph=data.select_dtypes(include=['float64','int64'])\n",
        "freqgraph.hist(figsize=(11,9))\n",
        "plt.tight_layout()\n",
        "plt.show()"
      ],
      "metadata": {
        "colab": {
          "base_uri": "https://localhost:8080/",
          "height": 906
        },
        "id": "dqtrrKrJxXRb",
        "outputId": "b70ea7b4-047d-47cb-f337-c7b2df5517bd"
      },
      "id": "dqtrrKrJxXRb",
      "execution_count": 142,
      "outputs": [
        {
          "output_type": "display_data",
          "data": {
            "text/plain": [
              "<Figure size 1100x900 with 25 Axes>"
            ],
            "image/png": "[encoded data removed]"
          },
          "metadata": {}
        }
      ]
    },
    {
      "cell_type": "markdown",
      "source": [
        "# Outlier detection"
      ],
      "metadata": {
        "id": "kxEWD0nSyATg"
      },
      "id": "kxEWD0nSyATg"
    },
    {
      "cell_type": "code",
      "source": [
        "# Outlier detection using boxplot\n",
        "for i in ['interest_rate','unpaid_principal_bal','loan_term','loan_to_value','number_of_borrowers','debt_to_income_ratio','borrower_credit_score','insurance_percent','co-borrower_credit_score','insurance_type','m1','m2','m3','m4','m5','m6','m7','m8','m9','m10','m11','m12','m13']:\n",
        "  sns.boxplot(x=data[i])\n",
        "  plt.show()"
      ],
      "metadata": {
        "colab": {
          "base_uri": "https://localhost:8080/",
          "height": 1000
        },
        "id": "HCow3N45x_P_",
        "outputId": "44bd8b20-7cde-4dec-a2ac-3c6926d5d025"
      },
      "id": "HCow3N45x_P_",
      "execution_count": 143,
      "outputs": [
        {
          "output_type": "display_data",
          "data": {
            "text/plain": [
              "<Figure size 640x480 with 1 Axes>"
            ],
            "image/png": "[encoded data removed]"
          },
          "metadata": {}
        },
        {
          "output_type": "display_data",
          "data": {
            "text/plain": [
              "<Figure size 640x480 with 1 Axes>"
            ],
            "image/png": "[encoded data removed]"
          },
          "metadata": {}
        },
        {
          "output_type": "display_data",
          "data": {
            "text/plain": [
              "<Figure size 640x480 with 1 Axes>"
            ],
            "image/png": "[encoded data removed]"
          },
          "metadata": {}
        },
        {
          "output_type": "display_data",
          "data": {
            "text/plain": [
              "<Figure size 640x480 with 1 Axes>"
            ],
            "image/png": "[encoded data removed]"
          },
          "metadata": {}
        },
        {
          "output_type": "display_data",
          "data": {
            "text/plain": [
              "<Figure size 640x480 with 1 Axes>"
            ],
            "image/png": "[encoded data removed]"
          },
          "metadata": {}
        },
        {
          "output_type": "display_data",
          "data": {
            "text/plain": [
              "<Figure size 640x480 with 1 Axes>"
            ],
            "image/png": "[encoded data removed]"
          },
          "metadata": {}
        },
        {
          "output_type": "display_data",
          "data": {
            "text/plain": [
              "<Figure size 640x480 with 1 Axes>"
            ],
            "image/png": "[encoded data removed]"
          },
          "metadata": {}
        },
        {
          "output_type": "display_data",
          "data": {
            "text/plain": [
              "<Figure size 640x480 with 1 Axes>"
            ],
            "image/png": "[encoded data removed]"
          },
          "metadata": {}
        },
        {
          "output_type": "display_data",
          "data": {
            "text/plain": [
              "<Figure size 640x480 with 1 Axes>"
            ],
            "image/png": "[encoded data removed]"
          },
          "metadata": {}
        },
        {
          "output_type": "display_data",
          "data": {
            "text/plain": [
              "<Figure size 640x480 with 1 Axes>"
            ],
            "image/png": "[encoded data removed]"
          },
          "metadata": {}
        },
        {
          "output_type": "display_data",
          "data": {
            "text/plain": [
              "<Figure size 640x480 with 1 Axes>"
            ],
            "image/png": "[encoded data removed]"
          },
          "metadata": {}
        },
        {
          "output_type": "display_data",
          "data": {
            "text/plain": [
              "<Figure size 640x480 with 1 Axes>"
            ],
            "image/png": "[encoded data removed]"
          },
          "metadata": {}
        },
        {
          "output_type": "display_data",
          "data": {
            "text/plain": [
              "<Figure size 640x480 with 1 Axes>"
            ],
            "image/png": "[encoded data removed]"
          },
          "metadata": {}
        },
        {
          "output_type": "display_data",
          "data": {
            "text/plain": [
              "<Figure size 640x480 with 1 Axes>"
            ],
            "image/png": "[encoded data removed]"
          },
          "metadata": {}
        },
        {
          "output_type": "display_data",
          "data": {
            "text/plain": [
              "<Figure size 640x480 with 1 Axes>"
            ],
            "image/png": "[encoded data removed]"
          },
          "metadata": {}
        },
        {
          "output_type": "display_data",
          "data": {
            "text/plain": [
              "<Figure size 640x480 with 1 Axes>"
            ],
            "image/png": "[encoded data removed]"
          },
          "metadata": {}
        },
        {
          "output_type": "display_data",
          "data": {
            "text/plain": [
              "<Figure size 640x480 with 1 Axes>"
            ],
            "image/png": "[encoded data removed]"
          },
          "metadata": {}
        },
        {
          "output_type": "display_data",
          "data": {
            "text/plain": [
              "<Figure size 640x480 with 1 Axes>"
            ],
            "image/png": "[encoded data removed]"
          },
          "metadata": {}
        },
        {
          "output_type": "display_data",
          "data": {
            "text/plain": [
              "<Figure size 640x480 with 1 Axes>"
            ],
            "image/png": "[encoded data removed]"
          },
          "metadata": {}
        },
        {
          "output_type": "display_data",
          "data": {
            "text/plain": [
              "<Figure size 640x480 with 1 Axes>"
            ],
            "image/png": "[encoded data removed]"
          },
          "metadata": {}
        },
        {
          "output_type": "display_data",
          "data": {
            "text/plain": [
              "<Figure size 640x480 with 1 Axes>"
            ],
            "image/png": "[encoded data removed]"
          },
          "metadata": {}
        },
        {
          "output_type": "display_data",
          "data": {
            "text/plain": [
              "<Figure size 640x480 with 1 Axes>"
            ],
            "image/png": "[encoded data removed]"
          },
          "metadata": {}
        },
        {
          "output_type": "display_data",
          "data": {
            "text/plain": [
              "<Figure size 640x480 with 1 Axes>"
            ],
            "image/png": "[encoded data removed]"
          },
          "metadata": {}
        }
      ]
    },
    {
      "cell_type": "code",
      "execution_count": 144,
      "metadata": {
        "colab": {
          "base_uri": "https://localhost:8080/"
        },
        "id": "21297d87",
        "outputId": "c84cc0f8-7c05-44b6-9f13-718bf7feb5b6"
      },
      "outputs": [
        {
          "output_type": "execute_result",
          "data": {
            "text/plain": [
              "X    63858\n",
              "Y    37554\n",
              "Z    14646\n",
              "Name: source, dtype: int64"
            ]
          },
          "metadata": {},
          "execution_count": 144
        }
      ],
      "source": [
        "data['source'].value_counts()"
      ],
      "id": "21297d87"
    },
    {
      "cell_type": "code",
      "execution_count": 145,
      "metadata": {
        "colab": {
          "base_uri": "https://localhost:8080/"
        },
        "id": "f9915868",
        "outputId": "0d0e838a-982e-4b78-c4df-8eff05d224ba"
      },
      "outputs": [
        {
          "output_type": "execute_result",
          "data": {
            "text/plain": [
              "19"
            ]
          },
          "metadata": {},
          "execution_count": 145
        }
      ],
      "source": [
        "data['financial_institution'].nunique()"
      ],
      "id": "f9915868"
    },
    {
      "cell_type": "code",
      "execution_count": 146,
      "metadata": {
        "colab": {
          "base_uri": "https://localhost:8080/"
        },
        "id": "e30869c3",
        "outputId": "dacce192-7d61-4add-e3e9-67a595427e4d"
      },
      "outputs": [
        {
          "output_type": "execute_result",
          "data": {
            "text/plain": [
              "OTHER                          42.822554\n",
              "Browning-Hart                  27.444898\n",
              "Swanson, Newton and Miller      5.922901\n",
              "Edwards-Hoffman                 4.184976\n",
              "Martinez, Duffy and Bird        4.062624\n",
              "Miller, Mcclure and Allen       2.721053\n",
              "Nicholson Group                 1.823226\n",
              "Turner, Baldwin and Rhodes      1.590584\n",
              "Suarez Inc                      1.542332\n",
              "Cole, Brooks and Vincent        1.414810\n",
              "Richards-Walters                1.257130\n",
              "Taylor, Hunt and Rodriguez      1.084802\n",
              "Sanchez-Robinson                1.027934\n",
              "Sanchez, Hays and Wilkerson     0.734977\n",
              "Romero, Woods and Johnson       0.646229\n",
              "Thornton-Davis                  0.560926\n",
              "Anderson-Taylor                 0.416171\n",
              "Richardson Ltd                  0.407555\n",
              "Chapman-Mcmahon                 0.334316\n",
              "Name: financial_institution, dtype: float64"
            ]
          },
          "metadata": {},
          "execution_count": 146
        }
      ],
      "source": [
        "data['financial_institution'].value_counts(normalize = True) * 100"
      ],
      "id": "e30869c3"
    },
    {
      "cell_type": "code",
      "execution_count": 147,
      "metadata": {
        "colab": {
          "base_uri": "https://localhost:8080/"
        },
        "id": "4b23a12b",
        "outputId": "ba2a0a48-3e75-4621-997e-23d0afd16360"
      },
      "outputs": [
        {
          "output_type": "execute_result",
          "data": {
            "text/plain": [
              "count    116058.000000\n",
              "mean          3.868961\n",
              "std           0.461020\n",
              "min           2.250000\n",
              "25%           3.500000\n",
              "50%           3.875000\n",
              "75%           4.125000\n",
              "max           6.750000\n",
              "Name: interest_rate, dtype: float64"
            ]
          },
          "metadata": {},
          "execution_count": 147
        }
      ],
      "source": [
        "data['interest_rate'].describe()"
      ],
      "id": "4b23a12b"
    },
    {
      "cell_type": "code",
      "execution_count": 148,
      "metadata": {
        "colab": {
          "base_uri": "https://localhost:8080/"
        },
        "id": "ba80900d",
        "outputId": "4644ea43-a4c1-4a62-9a05-8503a4c4f235"
      },
      "outputs": [
        {
          "output_type": "execute_result",
          "data": {
            "text/plain": [
              "count     116058.0\n",
              "mean      208226.0\n",
              "std       114685.0\n",
              "min        11000.0\n",
              "25%       120000.0\n",
              "50%       183000.0\n",
              "75%       278000.0\n",
              "max      1200000.0\n",
              "Name: unpaid_principal_bal, dtype: float64"
            ]
          },
          "metadata": {},
          "execution_count": 148
        }
      ],
      "source": [
        "data['unpaid_principal_bal'].describe().round()"
      ],
      "id": "ba80900d"
    },
    {
      "cell_type": "code",
      "execution_count": 149,
      "metadata": {
        "colab": {
          "base_uri": "https://localhost:8080/"
        },
        "id": "3902646a",
        "outputId": "74d502e3-8f0d-4960-a9b8-33dc473210e8"
      },
      "outputs": [
        {
          "output_type": "execute_result",
          "data": {
            "text/plain": [
              "Int64Index([84135], dtype='int64')"
            ]
          },
          "metadata": {},
          "execution_count": 149
        }
      ],
      "source": [
        "data[data['unpaid_principal_bal'] > 1000000].index"
      ],
      "id": "3902646a"
    },
    {
      "cell_type": "code",
      "execution_count": 150,
      "metadata": {
        "colab": {
          "base_uri": "https://localhost:8080/"
        },
        "id": "ba7fc89b",
        "outputId": "bc2c7f70-5d64-49fa-93dd-523b60b1ba13"
      },
      "outputs": [
        {
          "output_type": "execute_result",
          "data": {
            "text/plain": [
              "count    116058.000000\n",
              "mean        292.280997\n",
              "std          89.762415\n",
              "min          60.000000\n",
              "25%         180.000000\n",
              "50%         360.000000\n",
              "75%         360.000000\n",
              "max         360.000000\n",
              "Name: loan_term, dtype: float64"
            ]
          },
          "metadata": {},
          "execution_count": 150
        }
      ],
      "source": [
        "data['loan_term'].describe()"
      ],
      "id": "ba7fc89b"
    },
    {
      "cell_type": "code",
      "execution_count": 151,
      "metadata": {
        "colab": {
          "base_uri": "https://localhost:8080/"
        },
        "id": "b7616bd5",
        "outputId": "748f9f7a-b828-4e76-b145-5f81917f9b19"
      },
      "outputs": [
        {
          "output_type": "execute_result",
          "data": {
            "text/plain": [
              "count    116058.000000\n",
              "mean         67.431939\n",
              "std          17.291719\n",
              "min           6.000000\n",
              "25%          57.000000\n",
              "50%          72.000000\n",
              "75%          80.000000\n",
              "max          97.000000\n",
              "Name: loan_to_value, dtype: float64"
            ]
          },
          "metadata": {},
          "execution_count": 151
        }
      ],
      "source": [
        "data['loan_to_value'].describe()   #### 0 to 100"
      ],
      "id": "b7616bd5"
    },
    {
      "cell_type": "code",
      "execution_count": 152,
      "metadata": {
        "colab": {
          "base_uri": "https://localhost:8080/",
          "height": 300
        },
        "id": "0c072564",
        "outputId": "451347f0-7817-451e-ed7d-be0014466eb9"
      },
      "outputs": [
        {
          "output_type": "execute_result",
          "data": {
            "text/plain": [
              "             loan_id source financial_institution  interest_rate  \\\n",
              "3809    778482838695      X                 OTHER          4.375   \n",
              "49086   347923793768      X                 OTHER          3.875   \n",
              "81533   636086390929      X                 OTHER          4.000   \n",
              "103748  338955015756      Z         Browning-Hart          3.375   \n",
              "109443  162915736426      Y         Browning-Hart          3.500   \n",
              "\n",
              "        unpaid_principal_bal  loan_term origination_date first_payment_date  \\\n",
              "3809                  100000        360       2012-01-01            03/2012   \n",
              "49086                 134000        360       2012-02-01            04/2012   \n",
              "81533                  42000        360       2012-02-01            04/2012   \n",
              "103748                 81000        180       2012-01-01            03/2012   \n",
              "109443                 90000        180       2012-01-01            03/2012   \n",
              "\n",
              "        loan_to_value  number_of_borrowers  ...  m4  m5 m6  m7  m8  m9  m10  \\\n",
              "3809                6                  2.0  ...   0   0  0   0   0   0    0   \n",
              "49086               6                  2.0  ...   0   0  0   0   0   0    0   \n",
              "81533               6                  1.0  ...   0   0  0   0   0   0    0   \n",
              "103748              6                  1.0  ...   0   0  0   0   0   0    0   \n",
              "109443              6                  2.0  ...   0   0  0   0   0   0    0   \n",
              "\n",
              "        m11  m12  m13  \n",
              "3809      0    0    0  \n",
              "49086     0    0    0  \n",
              "81533     0    0    0  \n",
              "103748    0    0    0  \n",
              "109443    0    0    0  \n",
              "\n",
              "[5 rows x 29 columns]"
            ],
            "text/html": [
              "\n",
              "  <div id=\"df-4e3a3fe5-2fc6-4346-a185-53296a3140e4\">\n",
              "    <div class=\"colab-df-container\">\n",
              "      <div>\n",
              "<style scoped>\n",
              "    .dataframe tbody tr th:only-of-type {\n",
              "        vertical-align: middle;\n",
              "    }\n",
              "\n",
              "    .dataframe tbody tr th {\n",
              "        vertical-align: top;\n",
              "    }\n",
              "\n",
              "    .dataframe thead th {\n",
              "        text-align: right;\n",
              "    }\n",
              "</style>\n",
              "<table border=\"1\" class=\"dataframe\">\n",
              "  <thead>\n",
              "    <tr style=\"text-align: right;\">\n",
              "      <th></th>\n",
              "      <th>loan_id</th>\n",
              "      <th>source</th>\n",
              "      <th>financial_institution</th>\n",
              "      <th>interest_rate</th>\n",
              "      <th>unpaid_principal_bal</th>\n",
              "      <th>loan_term</th>\n",
              "      <th>origination_date</th>\n",
              "      <th>first_payment_date</th>\n",
              "      <th>loan_to_value</th>\n",
              "      <th>number_of_borrowers</th>\n",
              "      <th>...</th>\n",
              "      <th>m4</th>\n",
              "      <th>m5</th>\n",
              "      <th>m6</th>\n",
              "      <th>m7</th>\n",
              "      <th>m8</th>\n",
              "      <th>m9</th>\n",
              "      <th>m10</th>\n",
              "      <th>m11</th>\n",
              "      <th>m12</th>\n",
              "      <th>m13</th>\n",
              "    </tr>\n",
              "  </thead>\n",
              "  <tbody>\n",
              "    <tr>\n",
              "      <th>3809</th>\n",
              "      <td>778482838695</td>\n",
              "      <td>X</td>\n",
              "      <td>OTHER</td>\n",
              "      <td>4.375</td>\n",
              "      <td>100000</td>\n",
              "      <td>360</td>\n",
              "      <td>2012-01-01</td>\n",
              "      <td>03/2012</td>\n",
              "      <td>6</td>\n",
              "      <td>2.0</td>\n",
              "      <td>...</td>\n",
              "      <td>0</td>\n",
              "      <td>0</td>\n",
              "      <td>0</td>\n",
              "      <td>0</td>\n",
              "      <td>0</td>\n",
              "      <td>0</td>\n",
              "      <td>0</td>\n",
              "      <td>0</td>\n",
              "      <td>0</td>\n",
              "      <td>0</td>\n",
              "    </tr>\n",
              "    <tr>\n",
              "      <th>49086</th>\n",
              "      <td>347923793768</td>\n",
              "      <td>X</td>\n",
              "      <td>OTHER</td>\n",
              "      <td>3.875</td>\n",
              "      <td>134000</td>\n",
              "      <td>360</td>\n",
              "      <td>2012-02-01</td>\n",
              "      <td>04/2012</td>\n",
              "      <td>6</td>\n",
              "      <td>2.0</td>\n",
              "      <td>...</td>\n",
              "      <td>0</td>\n",
              "      <td>0</td>\n",
              "      <td>0</td>\n",
              "      <td>0</td>\n",
              "      <td>0</td>\n",
              "      <td>0</td>\n",
              "      <td>0</td>\n",
              "      <td>0</td>\n",
              "      <td>0</td>\n",
              "      <td>0</td>\n",
              "    </tr>\n",
              "    <tr>\n",
              "      <th>81533</th>\n",
              "      <td>636086390929</td>\n",
              "      <td>X</td>\n",
              "      <td>OTHER</td>\n",
              "      <td>4.000</td>\n",
              "      <td>42000</td>\n",
              "      <td>360</td>\n",
              "      <td>2012-02-01</td>\n",
              "      <td>04/2012</td>\n",
              "      <td>6</td>\n",
              "      <td>1.0</td>\n",
              "      <td>...</td>\n",
              "      <td>0</td>\n",
              "      <td>0</td>\n",
              "      <td>0</td>\n",
              "      <td>0</td>\n",
              "      <td>0</td>\n",
              "      <td>0</td>\n",
              "      <td>0</td>\n",
              "      <td>0</td>\n",
              "      <td>0</td>\n",
              "      <td>0</td>\n",
              "    </tr>\n",
              "    <tr>\n",
              "      <th>103748</th>\n",
              "      <td>338955015756</td>\n",
              "      <td>Z</td>\n",
              "      <td>Browning-Hart</td>\n",
              "      <td>3.375</td>\n",
              "      <td>81000</td>\n",
              "      <td>180</td>\n",
              "      <td>2012-01-01</td>\n",
              "      <td>03/2012</td>\n",
              "      <td>6</td>\n",
              "      <td>1.0</td>\n",
              "      <td>...</td>\n",
              "      <td>0</td>\n",
              "      <td>0</td>\n",
              "      <td>0</td>\n",
              "      <td>0</td>\n",
              "      <td>0</td>\n",
              "      <td>0</td>\n",
              "      <td>0</td>\n",
              "      <td>0</td>\n",
              "      <td>0</td>\n",
              "      <td>0</td>\n",
              "    </tr>\n",
              "    <tr>\n",
              "      <th>109443</th>\n",
              "      <td>162915736426</td>\n",
              "      <td>Y</td>\n",
              "      <td>Browning-Hart</td>\n",
              "      <td>3.500</td>\n",
              "      <td>90000</td>\n",
              "      <td>180</td>\n",
              "      <td>2012-01-01</td>\n",
              "      <td>03/2012</td>\n",
              "      <td>6</td>\n",
              "      <td>2.0</td>\n",
              "      <td>...</td>\n",
              "      <td>0</td>\n",
              "      <td>0</td>\n",
              "      <td>0</td>\n",
              "      <td>0</td>\n",
              "      <td>0</td>\n",
              "      <td>0</td>\n",
              "      <td>0</td>\n",
              "      <td>0</td>\n",
              "      <td>0</td>\n",
              "      <td>0</td>\n",
              "    </tr>\n",
              "  </tbody>\n",
              "</table>\n",
              "<p>5 rows × 29 columns</p>\n",
              "</div>\n",
              "      <button class=\"colab-df-convert\" onclick=\"convertToInteractive('df-4e3a3fe5-2fc6-4346-a185-53296a3140e4')\"\n",
              "              title=\"Convert this dataframe to an interactive table.\"\n",
              "              style=\"display:none;\">\n",
              "        \n",
              "  <svg xmlns=\"http://www.w3.org/2000/svg\" height=\"24px\"viewBox=\"0 0 24 24\"\n",
              "       width=\"24px\">\n",
              "    <path d=\"M0 0h24v24H0V0z\" fill=\"none\"/>\n",
              "    <path d=\"M18.56 5.44l.94 2.06.94-2.06 2.06-.94-2.06-.94-.94-2.06-.94 2.06-2.06.94zm-11 1L8.5 8.5l.94-2.06 2.06-.94-2.06-.94L8.5 2.5l-.94 2.06-2.06.94zm10 10l.94 2.06.94-2.06 2.06-.94-2.06-.94-.94-2.06-.94 2.06-2.06.94z\"/><path d=\"M17.41 7.96l-1.37-1.37c-.4-.4-.92-.59-1.43-.59-.52 0-1.04.2-1.43.59L10.3 9.45l-7.72 7.72c-.78.78-.78 2.05 0 2.83L4 21.41c.39.39.9.59 1.41.59.51 0 1.02-.2 1.41-.59l7.78-7.78 2.81-2.81c.8-.78.8-2.07 0-2.86zM5.41 20L4 18.59l7.72-7.72 1.47 1.35L5.41 20z\"/>\n",
              "  </svg>\n",
              "      </button>\n",
              "      \n",
              "  <style>\n",
              "    .colab-df-container {\n",
              "      display:flex;\n",
              "      flex-wrap:wrap;\n",
              "      gap: 12px;\n",
              "    }\n",
              "\n",
              "    .colab-df-convert {\n",
              "      background-color: #E8F0FE;\n",
              "      border: none;\n",
              "      border-radius: 50%;\n",
              "      cursor: pointer;\n",
              "      display: none;\n",
              "      fill: #1967D2;\n",
              "      height: 32px;\n",
              "      padding: 0 0 0 0;\n",
              "      width: 32px;\n",
              "    }\n",
              "\n",
              "    .colab-df-convert:hover {\n",
              "      background-color: #E2EBFA;\n",
              "      box-shadow: 0px 1px 2px rgba(60, 64, 67, 0.3), 0px 1px 3px 1px rgba(60, 64, 67, 0.15);\n",
              "      fill: #174EA6;\n",
              "    }\n",
              "\n",
              "    [theme=dark] .colab-df-convert {\n",
              "      background-color: #3B4455;\n",
              "      fill: #D2E3FC;\n",
              "    }\n",
              "\n",
              "    [theme=dark] .colab-df-convert:hover {\n",
              "      background-color: #434B5C;\n",
              "      box-shadow: 0px 1px 3px 1px rgba(0, 0, 0, 0.15);\n",
              "      filter: drop-shadow(0px 1px 2px rgba(0, 0, 0, 0.3));\n",
              "      fill: #FFFFFF;\n",
              "    }\n",
              "  </style>\n",
              "\n",
              "      <script>\n",
              "        const buttonEl =\n",
              "          document.querySelector('#df-4e3a3fe5-2fc6-4346-a185-53296a3140e4 button.colab-df-convert');\n",
              "        buttonEl.style.display =\n",
              "          google.colab.kernel.accessAllowed ? 'block' : 'none';\n",
              "\n",
              "        async function convertToInteractive(key) {\n",
              "          const element = document.querySelector('#df-4e3a3fe5-2fc6-4346-a185-53296a3140e4');\n",
              "          const dataTable =\n",
              "            await google.colab.kernel.invokeFunction('convertToInteractive',\n",
              "                                                     [key], {});\n",
              "          if (!dataTable) return;\n",
              "\n",
              "          const docLinkHtml = 'Like what you see? Visit the ' +\n",
              "            '<a target=\"_blank\" href=https://colab.research.google.com/notebooks/data_table.ipynb>data table notebook</a>'\n",
              "            + ' to learn more about interactive tables.';\n",
              "          element.innerHTML = '';\n",
              "          dataTable['output_type'] = 'display_data';\n",
              "          await google.colab.output.renderOutput(dataTable, element);\n",
              "          const docLink = document.createElement('div');\n",
              "          docLink.innerHTML = docLinkHtml;\n",
              "          element.appendChild(docLink);\n",
              "        }\n",
              "      </script>\n",
              "    </div>\n",
              "  </div>\n",
              "  "
            ]
          },
          "metadata": {},
          "execution_count": 152
        }
      ],
      "source": [
        "data[data['loan_to_value'] < 7]"
      ],
      "id": "0c072564"
    },
    {
      "cell_type": "code",
      "execution_count": 153,
      "metadata": {
        "colab": {
          "base_uri": "https://localhost:8080/"
        },
        "id": "e8b41055",
        "outputId": "6be8288c-1ecf-4335-94ec-74415be5fccc"
      },
      "outputs": [
        {
          "output_type": "execute_result",
          "data": {
            "text/plain": [
              "count    116058.000000\n",
              "mean         30.742293\n",
              "std           9.730798\n",
              "min           1.000000\n",
              "25%          23.000000\n",
              "50%          31.000000\n",
              "75%          39.000000\n",
              "max          64.000000\n",
              "Name: debt_to_income_ratio, dtype: float64"
            ]
          },
          "metadata": {},
          "execution_count": 153
        }
      ],
      "source": [
        "data['debt_to_income_ratio'].describe()"
      ],
      "id": "e8b41055"
    },
    {
      "cell_type": "code",
      "execution_count": 154,
      "metadata": {
        "colab": {
          "base_uri": "https://localhost:8080/"
        },
        "id": "4188f8b6",
        "outputId": "d68ee16c-3efa-40a3-f697-d7810c84a37c"
      },
      "outputs": [
        {
          "output_type": "execute_result",
          "data": {
            "text/plain": [
              "count    116058.000000\n",
              "mean        769.926778\n",
              "std          42.210706\n",
              "min           0.000000\n",
              "25%         751.000000\n",
              "50%         782.000000\n",
              "75%         800.000000\n",
              "max         840.000000\n",
              "Name: borrower_credit_score, dtype: float64"
            ]
          },
          "metadata": {},
          "execution_count": 154
        }
      ],
      "source": [
        "data['borrower_credit_score'].describe()"
      ],
      "id": "4188f8b6"
    },
    {
      "cell_type": "code",
      "execution_count": 155,
      "metadata": {
        "colab": {
          "base_uri": "https://localhost:8080/",
          "height": 447
        },
        "id": "2c8f0e09",
        "outputId": "6a3c6571-ddda-46c0-aa4e-28fb0d191cfd"
      },
      "outputs": [
        {
          "output_type": "execute_result",
          "data": {
            "text/plain": [
              "<Axes: >"
            ]
          },
          "metadata": {},
          "execution_count": 155
        },
        {
          "output_type": "display_data",
          "data": {
            "text/plain": [
              "<Figure size 640x480 with 1 Axes>"
            ],
            "image/png": "[encoded data removed]"
          },
          "metadata": {}
        }
      ],
      "source": [
        "data['borrower_credit_score'].plot(kind = \"box\")"
      ],
      "id": "2c8f0e09"
    },
    {
      "cell_type": "code",
      "execution_count": 156,
      "metadata": {
        "colab": {
          "base_uri": "https://localhost:8080/"
        },
        "id": "a4676b23",
        "outputId": "8c1b04da-5720-475d-e98b-5ee6b6778603"
      },
      "outputs": [
        {
          "output_type": "execute_result",
          "data": {
            "text/plain": [
              "Index(['loan_id', 'source', 'financial_institution', 'interest_rate',\n",
              "       'unpaid_principal_bal', 'loan_term', 'origination_date',\n",
              "       'first_payment_date', 'loan_to_value', 'number_of_borrowers',\n",
              "       'debt_to_income_ratio', 'borrower_credit_score', 'loan_purpose',\n",
              "       'insurance_percent', 'co-borrower_credit_score', 'insurance_type', 'm1',\n",
              "       'm2', 'm3', 'm4', 'm5', 'm6', 'm7', 'm8', 'm9', 'm10', 'm11', 'm12',\n",
              "       'm13'],\n",
              "      dtype='object')"
            ]
          },
          "metadata": {},
          "execution_count": 156
        }
      ],
      "source": [
        "data.columns"
      ],
      "id": "a4676b23"
    },
    {
      "cell_type": "code",
      "execution_count": 157,
      "metadata": {
        "id": "e44b0fe5"
      },
      "outputs": [],
      "source": [
        "repay_cols = ['m1',\n",
        "       'm2', 'm3', 'm4', 'm5', 'm6', 'm7', 'm8', 'm9', 'm10', 'm11', 'm12']"
      ],
      "id": "e44b0fe5"
    },
    {
      "cell_type": "code",
      "execution_count": 158,
      "metadata": {
        "id": "b4cf8d07"
      },
      "outputs": [],
      "source": [
        "zero_credit_index = data[data['borrower_credit_score'] < 400][repay_cols].index"
      ],
      "id": "b4cf8d07"
    },
    {
      "cell_type": "code",
      "execution_count": 159,
      "metadata": {
        "id": "2442e0c6"
      },
      "outputs": [],
      "source": [
        "data = data.drop(zero_credit_index)"
      ],
      "id": "2442e0c6"
    },
    {
      "cell_type": "code",
      "execution_count": 160,
      "metadata": {
        "colab": {
          "base_uri": "https://localhost:8080/"
        },
        "id": "e781c72f",
        "outputId": "895a6541-6274-4da2-b588-749b6d79c14b"
      },
      "outputs": [
        {
          "output_type": "execute_result",
          "data": {
            "text/plain": [
              "(116007, 29)"
            ]
          },
          "metadata": {},
          "execution_count": 160
        }
      ],
      "source": [
        "data.shape"
      ],
      "id": "e781c72f"
    },
    {
      "cell_type": "code",
      "execution_count": 161,
      "metadata": {
        "colab": {
          "base_uri": "https://localhost:8080/"
        },
        "id": "555098a8",
        "outputId": "0ef1ceeb-7c8c-45b5-e32f-10926930e963"
      },
      "outputs": [
        {
          "output_type": "execute_result",
          "data": {
            "text/plain": [
              "A23    50.391787\n",
              "B12    25.327782\n",
              "C86    24.280431\n",
              "Name: loan_purpose, dtype: float64"
            ]
          },
          "metadata": {},
          "execution_count": 161
        }
      ],
      "source": [
        "data['loan_purpose'].value_counts(normalize = True) * 100"
      ],
      "id": "555098a8"
    },
    {
      "cell_type": "code",
      "execution_count": 162,
      "metadata": {
        "colab": {
          "base_uri": "https://localhost:8080/"
        },
        "id": "f82753ff",
        "outputId": "77155c4f-1f4d-4281-9026-f29a178c7ea7"
      },
      "outputs": [
        {
          "output_type": "execute_result",
          "data": {
            "text/plain": [
              "count    116007.000000\n",
              "mean        459.717431\n",
              "std         381.931172\n",
              "min           0.000000\n",
              "25%           0.000000\n",
              "50%         740.000000\n",
              "75%         791.000000\n",
              "max         836.000000\n",
              "Name: co-borrower_credit_score, dtype: float64"
            ]
          },
          "metadata": {},
          "execution_count": 162
        }
      ],
      "source": [
        "data['co-borrower_credit_score'].describe()"
      ],
      "id": "f82753ff"
    },
    {
      "cell_type": "code",
      "execution_count": 163,
      "metadata": {
        "colab": {
          "base_uri": "https://localhost:8080/"
        },
        "id": "d3871bed",
        "outputId": "a1309be5-6163-48e2-9ec8-a80dc751c4d4"
      },
      "outputs": [
        {
          "output_type": "execute_result",
          "data": {
            "text/plain": [
              "0.0    115629\n",
              "1.0       378\n",
              "Name: insurance_type, dtype: int64"
            ]
          },
          "metadata": {},
          "execution_count": 163
        }
      ],
      "source": [
        "data['insurance_type'].value_counts()"
      ],
      "id": "d3871bed"
    },
    {
      "cell_type": "markdown",
      "source": [
        "#### missing value and outliers is done"
      ],
      "metadata": {
        "id": "NvhOyxuryqR-"
      },
      "id": "NvhOyxuryqR-"
    },
    {
      "cell_type": "markdown",
      "metadata": {
        "id": "3c077f7a"
      },
      "source": [],
      "id": "3c077f7a"
    },
    {
      "cell_type": "code",
      "execution_count": 164,
      "metadata": {
        "colab": {
          "base_uri": "https://localhost:8080/"
        },
        "id": "0c7af639",
        "outputId": "8583c588-3f0f-48ea-9b51-c6ed3f11f08f"
      },
      "outputs": [
        {
          "output_type": "execute_result",
          "data": {
            "text/plain": [
              "Index(['loan_id', 'source', 'financial_institution', 'interest_rate',\n",
              "       'unpaid_principal_bal', 'loan_term', 'origination_date',\n",
              "       'first_payment_date', 'loan_to_value', 'number_of_borrowers',\n",
              "       'debt_to_income_ratio', 'borrower_credit_score', 'loan_purpose',\n",
              "       'insurance_percent', 'co-borrower_credit_score', 'insurance_type', 'm1',\n",
              "       'm2', 'm3', 'm4', 'm5', 'm6', 'm7', 'm8', 'm9', 'm10', 'm11', 'm12',\n",
              "       'm13'],\n",
              "      dtype='object')"
            ]
          },
          "metadata": {},
          "execution_count": 164
        }
      ],
      "source": [
        "data.columns"
      ],
      "id": "0c7af639"
    },
    {
      "cell_type": "code",
      "execution_count": 165,
      "metadata": {
        "id": "ceabc48a"
      },
      "outputs": [],
      "source": [
        "req_cols = ['source', 'financial_institution', 'interest_rate',\n",
        "       'unpaid_principal_bal', 'loan_term', 'loan_to_value', 'number_of_borrowers',\n",
        "       'debt_to_income_ratio', 'borrower_credit_score', 'loan_purpose',\n",
        "       'insurance_percent', 'co-borrower_credit_score', 'insurance_type', 'm1',\n",
        "       'm2', 'm3', 'm4', 'm5', 'm6', 'm7', 'm8', 'm9', 'm10', 'm11', 'm12']"
      ],
      "id": "ceabc48a"
    },
    {
      "cell_type": "code",
      "execution_count": 166,
      "metadata": {
        "id": "4f1e09c2"
      },
      "outputs": [],
      "source": [
        "x = data[req_cols]"
      ],
      "id": "4f1e09c2"
    },
    {
      "cell_type": "code",
      "execution_count": 167,
      "metadata": {
        "id": "2e5fbbe0"
      },
      "outputs": [],
      "source": [
        "y = data['m13']"
      ],
      "id": "2e5fbbe0"
    },
    {
      "cell_type": "code",
      "execution_count": 168,
      "metadata": {
        "colab": {
          "base_uri": "https://localhost:8080/"
        },
        "id": "4037fdc6",
        "outputId": "36d94d1c-e75f-424d-bcc3-9c6321d64607"
      },
      "outputs": [
        {
          "output_type": "execute_result",
          "data": {
            "text/plain": [
              "0    99.451757\n",
              "1     0.548243\n",
              "Name: m13, dtype: float64"
            ]
          },
          "metadata": {},
          "execution_count": 168
        }
      ],
      "source": [
        "y.value_counts(normalize = True) * 100"
      ],
      "id": "4037fdc6"
    },
    {
      "cell_type": "code",
      "execution_count": 169,
      "metadata": {
        "colab": {
          "base_uri": "https://localhost:8080/"
        },
        "id": "88778040",
        "outputId": "50bf1adb-846c-463e-e09f-c7735e9d109a"
      },
      "outputs": [
        {
          "output_type": "execute_result",
          "data": {
            "text/plain": [
              "Index(['source', 'financial_institution', 'interest_rate',\n",
              "       'unpaid_principal_bal', 'loan_term', 'loan_to_value',\n",
              "       'number_of_borrowers', 'debt_to_income_ratio', 'borrower_credit_score',\n",
              "       'loan_purpose', 'insurance_percent', 'co-borrower_credit_score',\n",
              "       'insurance_type', 'm1', 'm2', 'm3', 'm4', 'm5', 'm6', 'm7', 'm8', 'm9',\n",
              "       'm10', 'm11', 'm12'],\n",
              "      dtype='object')"
            ]
          },
          "metadata": {},
          "execution_count": 169
        }
      ],
      "source": [
        "x.columns"
      ],
      "id": "88778040"
    },
    {
      "cell_type": "code",
      "execution_count": 170,
      "metadata": {
        "colab": {
          "base_uri": "https://localhost:8080/"
        },
        "id": "c667481e",
        "outputId": "96203009-2d2a-42e5-eaf1-8665caf396f8"
      },
      "outputs": [
        {
          "output_type": "execute_result",
          "data": {
            "text/plain": [
              "(116007, 25)"
            ]
          },
          "metadata": {},
          "execution_count": 170
        }
      ],
      "source": [
        "x.shape"
      ],
      "id": "c667481e"
    },
    {
      "cell_type": "code",
      "execution_count": 171,
      "metadata": {
        "id": "50522f01"
      },
      "outputs": [],
      "source": [
        "x = pd.get_dummies(x)"
      ],
      "id": "50522f01"
    },
    {
      "cell_type": "code",
      "execution_count": 172,
      "metadata": {
        "colab": {
          "base_uri": "https://localhost:8080/"
        },
        "id": "10d58564",
        "outputId": "05977143-39cf-4678-9d72-7cbc2953d446"
      },
      "outputs": [
        {
          "output_type": "stream",
          "name": "stdout",
          "text": [
            "<class 'pandas.core.frame.DataFrame'>\n",
            "Int64Index: 116007 entries, 0 to 116057\n",
            "Data columns (total 47 columns):\n",
            " #   Column                                             Non-Null Count   Dtype  \n",
            "---  ------                                             --------------   -----  \n",
            " 0   interest_rate                                      116007 non-null  float64\n",
            " 1   unpaid_principal_bal                               116007 non-null  int64  \n",
            " 2   loan_term                                          116007 non-null  int64  \n",
            " 3   loan_to_value                                      116007 non-null  int64  \n",
            " 4   number_of_borrowers                                116007 non-null  float64\n",
            " 5   debt_to_income_ratio                               116007 non-null  float64\n",
            " 6   borrower_credit_score                              116007 non-null  float64\n",
            " 7   insurance_percent                                  116007 non-null  float64\n",
            " 8   co-borrower_credit_score                           116007 non-null  float64\n",
            " 9   insurance_type                                     116007 non-null  float64\n",
            " 10  m1                                                 116007 non-null  int64  \n",
            " 11  m2                                                 116007 non-null  int64  \n",
            " 12  m3                                                 116007 non-null  int64  \n",
            " 13  m4                                                 116007 non-null  int64  \n",
            " 14  m5                                                 116007 non-null  int64  \n",
            " 15  m6                                                 116007 non-null  int64  \n",
            " 16  m7                                                 116007 non-null  int64  \n",
            " 17  m8                                                 116007 non-null  int64  \n",
            " 18  m9                                                 116007 non-null  int64  \n",
            " 19  m10                                                116007 non-null  int64  \n",
            " 20  m11                                                116007 non-null  int64  \n",
            " 21  m12                                                116007 non-null  int64  \n",
            " 22  source_X                                           116007 non-null  uint8  \n",
            " 23  source_Y                                           116007 non-null  uint8  \n",
            " 24  source_Z                                           116007 non-null  uint8  \n",
            " 25  financial_institution_Anderson-Taylor              116007 non-null  uint8  \n",
            " 26  financial_institution_Browning-Hart                116007 non-null  uint8  \n",
            " 27  financial_institution_Chapman-Mcmahon              116007 non-null  uint8  \n",
            " 28  financial_institution_Cole, Brooks and Vincent     116007 non-null  uint8  \n",
            " 29  financial_institution_Edwards-Hoffman              116007 non-null  uint8  \n",
            " 30  financial_institution_Martinez, Duffy and Bird     116007 non-null  uint8  \n",
            " 31  financial_institution_Miller, Mcclure and Allen    116007 non-null  uint8  \n",
            " 32  financial_institution_Nicholson Group              116007 non-null  uint8  \n",
            " 33  financial_institution_OTHER                        116007 non-null  uint8  \n",
            " 34  financial_institution_Richards-Walters             116007 non-null  uint8  \n",
            " 35  financial_institution_Richardson Ltd               116007 non-null  uint8  \n",
            " 36  financial_institution_Romero, Woods and Johnson    116007 non-null  uint8  \n",
            " 37  financial_institution_Sanchez, Hays and Wilkerson  116007 non-null  uint8  \n",
            " 38  financial_institution_Sanchez-Robinson             116007 non-null  uint8  \n",
            " 39  financial_institution_Suarez Inc                   116007 non-null  uint8  \n",
            " 40  financial_institution_Swanson, Newton and Miller   116007 non-null  uint8  \n",
            " 41  financial_institution_Taylor, Hunt and Rodriguez   116007 non-null  uint8  \n",
            " 42  financial_institution_Thornton-Davis               116007 non-null  uint8  \n",
            " 43  financial_institution_Turner, Baldwin and Rhodes   116007 non-null  uint8  \n",
            " 44  loan_purpose_A23                                   116007 non-null  uint8  \n",
            " 45  loan_purpose_B12                                   116007 non-null  uint8  \n",
            " 46  loan_purpose_C86                                   116007 non-null  uint8  \n",
            "dtypes: float64(7), int64(15), uint8(25)\n",
            "memory usage: 23.1 MB\n"
          ]
        }
      ],
      "source": [
        "x.info()"
      ],
      "id": "10d58564"
    },
    {
      "cell_type": "code",
      "execution_count": 173,
      "metadata": {
        "colab": {
          "base_uri": "https://localhost:8080/",
          "height": 411
        },
        "id": "d60682ba",
        "outputId": "39a95410-6506-4468-abf2-fdd0c0b9c84b"
      },
      "outputs": [
        {
          "output_type": "execute_result",
          "data": {
            "text/plain": [
              "       interest_rate  unpaid_principal_bal      loan_term  loan_to_value  \\\n",
              "count  116007.000000          1.160070e+05  116007.000000  116007.000000   \n",
              "mean        3.868911          2.082340e+05     292.270363      67.429155   \n",
              "std         0.460991          1.146914e+05      89.765473      17.293610   \n",
              "min         2.250000          1.100000e+04      60.000000       6.000000   \n",
              "25%         3.500000          1.200000e+05     180.000000      57.000000   \n",
              "50%         3.875000          1.830000e+05     360.000000      72.000000   \n",
              "75%         4.125000          2.780000e+05     360.000000      80.000000   \n",
              "max         6.750000          1.200000e+06     360.000000      97.000000   \n",
              "\n",
              "       number_of_borrowers  debt_to_income_ratio  borrower_credit_score  \\\n",
              "count        116007.000000         116007.000000          116007.000000   \n",
              "mean              1.593257             30.744696             770.265260   \n",
              "std               0.491228              9.729681              39.010306   \n",
              "min               1.000000              1.000000             480.000000   \n",
              "25%               1.000000             23.000000             751.000000   \n",
              "50%               2.000000             31.000000             782.000000   \n",
              "75%               2.000000             39.000000             800.000000   \n",
              "max               2.000000             64.000000             840.000000   \n",
              "\n",
              "       insurance_percent  co-borrower_credit_score  insurance_type  ...  \\\n",
              "count      116007.000000             116007.000000   116007.000000  ...   \n",
              "mean            2.786306                459.717431        0.003258  ...   \n",
              "std             8.096345                381.931172        0.056990  ...   \n",
              "min             0.000000                  0.000000        0.000000  ...   \n",
              "25%             0.000000                  0.000000        0.000000  ...   \n",
              "50%             0.000000                740.000000        0.000000  ...   \n",
              "75%             0.000000                791.000000        0.000000  ...   \n",
              "max            40.000000                836.000000        1.000000  ...   \n",
              "\n",
              "       financial_institution_Sanchez, Hays and Wilkerson  \\\n",
              "count                                      116007.000000   \n",
              "mean                                            0.007353   \n",
              "std                                             0.085434   \n",
              "min                                             0.000000   \n",
              "25%                                             0.000000   \n",
              "50%                                             0.000000   \n",
              "75%                                             0.000000   \n",
              "max                                             1.000000   \n",
              "\n",
              "       financial_institution_Sanchez-Robinson  \\\n",
              "count                           116007.000000   \n",
              "mean                                 0.010284   \n",
              "std                                  0.100887   \n",
              "min                                  0.000000   \n",
              "25%                                  0.000000   \n",
              "50%                                  0.000000   \n",
              "75%                                  0.000000   \n",
              "max                                  1.000000   \n",
              "\n",
              "       financial_institution_Suarez Inc  \\\n",
              "count                     116007.000000   \n",
              "mean                           0.015430   \n",
              "std                            0.123256   \n",
              "min                            0.000000   \n",
              "25%                            0.000000   \n",
              "50%                            0.000000   \n",
              "75%                            0.000000   \n",
              "max                            1.000000   \n",
              "\n",
              "       financial_institution_Swanson, Newton and Miller  \\\n",
              "count                                     116007.000000   \n",
              "mean                                           0.059255   \n",
              "std                                            0.236102   \n",
              "min                                            0.000000   \n",
              "25%                                            0.000000   \n",
              "50%                                            0.000000   \n",
              "75%                                            0.000000   \n",
              "max                                            1.000000   \n",
              "\n",
              "       financial_institution_Taylor, Hunt and Rodriguez  \\\n",
              "count                                     116007.000000   \n",
              "mean                                           0.010853   \n",
              "std                                            0.103610   \n",
              "min                                            0.000000   \n",
              "25%                                            0.000000   \n",
              "50%                                            0.000000   \n",
              "75%                                            0.000000   \n",
              "max                                            1.000000   \n",
              "\n",
              "       financial_institution_Thornton-Davis  \\\n",
              "count                         116007.000000   \n",
              "mean                               0.005612   \n",
              "std                                0.074701   \n",
              "min                                0.000000   \n",
              "25%                                0.000000   \n",
              "50%                                0.000000   \n",
              "75%                                0.000000   \n",
              "max                                1.000000   \n",
              "\n",
              "       financial_institution_Turner, Baldwin and Rhodes  loan_purpose_A23  \\\n",
              "count                                     116007.000000     116007.000000   \n",
              "mean                                           0.015913          0.503918   \n",
              "std                                            0.125139          0.499987   \n",
              "min                                            0.000000          0.000000   \n",
              "25%                                            0.000000          0.000000   \n",
              "50%                                            0.000000          1.000000   \n",
              "75%                                            0.000000          1.000000   \n",
              "max                                            1.000000          1.000000   \n",
              "\n",
              "       loan_purpose_B12  loan_purpose_C86  \n",
              "count     116007.000000     116007.000000  \n",
              "mean           0.253278          0.242804  \n",
              "std            0.434891          0.428780  \n",
              "min            0.000000          0.000000  \n",
              "25%            0.000000          0.000000  \n",
              "50%            0.000000          0.000000  \n",
              "75%            1.000000          0.000000  \n",
              "max            1.000000          1.000000  \n",
              "\n",
              "[8 rows x 47 columns]"
            ],
            "text/html": [
              "\n",
              "  <div id=\"df-4a2be430-268c-4bfd-8af3-85b34d44f815\">\n",
              "    <div class=\"colab-df-container\">\n",
              "      <div>\n",
              "<style scoped>\n",
              "    .dataframe tbody tr th:only-of-type {\n",
              "        vertical-align: middle;\n",
              "    }\n",
              "\n",
              "    .dataframe tbody tr th {\n",
              "        vertical-align: top;\n",
              "    }\n",
              "\n",
              "    .dataframe thead th {\n",
              "        text-align: right;\n",
              "    }\n",
              "</style>\n",
              "<table border=\"1\" class=\"dataframe\">\n",
              "  <thead>\n",
              "    <tr style=\"text-align: right;\">\n",
              "      <th></th>\n",
              "      <th>interest_rate</th>\n",
              "      <th>unpaid_principal_bal</th>\n",
              "      <th>loan_term</th>\n",
              "      <th>loan_to_value</th>\n",
              "      <th>number_of_borrowers</th>\n",
              "      <th>debt_to_income_ratio</th>\n",
              "      <th>borrower_credit_score</th>\n",
              "      <th>insurance_percent</th>\n",
              "      <th>co-borrower_credit_score</th>\n",
              "      <th>insurance_type</th>\n",
              "      <th>...</th>\n",
              "      <th>financial_institution_Sanchez, Hays and Wilkerson</th>\n",
              "      <th>financial_institution_Sanchez-Robinson</th>\n",
              "      <th>financial_institution_Suarez Inc</th>\n",
              "      <th>financial_institution_Swanson, Newton and Miller</th>\n",
              "      <th>financial_institution_Taylor, Hunt and Rodriguez</th>\n",
              "      <th>financial_institution_Thornton-Davis</th>\n",
              "      <th>financial_institution_Turner, Baldwin and Rhodes</th>\n",
              "      <th>loan_purpose_A23</th>\n",
              "      <th>loan_purpose_B12</th>\n",
              "      <th>loan_purpose_C86</th>\n",
              "    </tr>\n",
              "  </thead>\n",
              "  <tbody>\n",
              "    <tr>\n",
              "      <th>count</th>\n",
              "      <td>116007.000000</td>\n",
              "      <td>1.160070e+05</td>\n",
              "      <td>116007.000000</td>\n",
              "      <td>116007.000000</td>\n",
              "      <td>116007.000000</td>\n",
              "      <td>116007.000000</td>\n",
              "      <td>116007.000000</td>\n",
              "      <td>116007.000000</td>\n",
              "      <td>116007.000000</td>\n",
              "      <td>116007.000000</td>\n",
              "      <td>...</td>\n",
              "      <td>116007.000000</td>\n",
              "      <td>116007.000000</td>\n",
              "      <td>116007.000000</td>\n",
              "      <td>116007.000000</td>\n",
              "      <td>116007.000000</td>\n",
              "      <td>116007.000000</td>\n",
              "      <td>116007.000000</td>\n",
              "      <td>116007.000000</td>\n",
              "      <td>116007.000000</td>\n",
              "      <td>116007.000000</td>\n",
              "    </tr>\n",
              "    <tr>\n",
              "      <th>mean</th>\n",
              "      <td>3.868911</td>\n",
              "      <td>2.082340e+05</td>\n",
              "      <td>292.270363</td>\n",
              "      <td>67.429155</td>\n",
              "      <td>1.593257</td>\n",
              "      <td>30.744696</td>\n",
              "      <td>770.265260</td>\n",
              "      <td>2.786306</td>\n",
              "      <td>459.717431</td>\n",
              "      <td>0.003258</td>\n",
              "      <td>...</td>\n",
              "      <td>0.007353</td>\n",
              "      <td>0.010284</td>\n",
              "      <td>0.015430</td>\n",
              "      <td>0.059255</td>\n",
              "      <td>0.010853</td>\n",
              "      <td>0.005612</td>\n",
              "      <td>0.015913</td>\n",
              "      <td>0.503918</td>\n",
              "      <td>0.253278</td>\n",
              "      <td>0.242804</td>\n",
              "    </tr>\n",
              "    <tr>\n",
              "      <th>std</th>\n",
              "      <td>0.460991</td>\n",
              "      <td>1.146914e+05</td>\n",
              "      <td>89.765473</td>\n",
              "      <td>17.293610</td>\n",
              "      <td>0.491228</td>\n",
              "      <td>9.729681</td>\n",
              "      <td>39.010306</td>\n",
              "      <td>8.096345</td>\n",
              "      <td>381.931172</td>\n",
              "      <td>0.056990</td>\n",
              "      <td>...</td>\n",
              "      <td>0.085434</td>\n",
              "      <td>0.100887</td>\n",
              "      <td>0.123256</td>\n",
              "      <td>0.236102</td>\n",
              "      <td>0.103610</td>\n",
              "      <td>0.074701</td>\n",
              "      <td>0.125139</td>\n",
              "      <td>0.499987</td>\n",
              "      <td>0.434891</td>\n",
              "      <td>0.428780</td>\n",
              "    </tr>\n",
              "    <tr>\n",
              "      <th>min</th>\n",
              "      <td>2.250000</td>\n",
              "      <td>1.100000e+04</td>\n",
              "      <td>60.000000</td>\n",
              "      <td>6.000000</td>\n",
              "      <td>1.000000</td>\n",
              "      <td>1.000000</td>\n",
              "      <td>480.000000</td>\n",
              "      <td>0.000000</td>\n",
              "      <td>0.000000</td>\n",
              "      <td>0.000000</td>\n",
              "      <td>...</td>\n",
              "      <td>0.000000</td>\n",
              "      <td>0.000000</td>\n",
              "      <td>0.000000</td>\n",
              "      <td>0.000000</td>\n",
              "      <td>0.000000</td>\n",
              "      <td>0.000000</td>\n",
              "      <td>0.000000</td>\n",
              "      <td>0.000000</td>\n",
              "      <td>0.000000</td>\n",
              "      <td>0.000000</td>\n",
              "    </tr>\n",
              "    <tr>\n",
              "      <th>25%</th>\n",
              "      <td>3.500000</td>\n",
              "      <td>1.200000e+05</td>\n",
              "      <td>180.000000</td>\n",
              "      <td>57.000000</td>\n",
              "      <td>1.000000</td>\n",
              "      <td>23.000000</td>\n",
              "      <td>751.000000</td>\n",
              "      <td>0.000000</td>\n",
              "      <td>0.000000</td>\n",
              "      <td>0.000000</td>\n",
              "      <td>...</td>\n",
              "      <td>0.000000</td>\n",
              "      <td>0.000000</td>\n",
              "      <td>0.000000</td>\n",
              "      <td>0.000000</td>\n",
              "      <td>0.000000</td>\n",
              "      <td>0.000000</td>\n",
              "      <td>0.000000</td>\n",
              "      <td>0.000000</td>\n",
              "      <td>0.000000</td>\n",
              "      <td>0.000000</td>\n",
              "    </tr>\n",
              "    <tr>\n",
              "      <th>50%</th>\n",
              "      <td>3.875000</td>\n",
              "      <td>1.830000e+05</td>\n",
              "      <td>360.000000</td>\n",
              "      <td>72.000000</td>\n",
              "      <td>2.000000</td>\n",
              "      <td>31.000000</td>\n",
              "      <td>782.000000</td>\n",
              "      <td>0.000000</td>\n",
              "      <td>740.000000</td>\n",
              "      <td>0.000000</td>\n",
              "      <td>...</td>\n",
              "      <td>0.000000</td>\n",
              "      <td>0.000000</td>\n",
              "      <td>0.000000</td>\n",
              "      <td>0.000000</td>\n",
              "      <td>0.000000</td>\n",
              "      <td>0.000000</td>\n",
              "      <td>0.000000</td>\n",
              "      <td>1.000000</td>\n",
              "      <td>0.000000</td>\n",
              "      <td>0.000000</td>\n",
              "    </tr>\n",
              "    <tr>\n",
              "      <th>75%</th>\n",
              "      <td>4.125000</td>\n",
              "      <td>2.780000e+05</td>\n",
              "      <td>360.000000</td>\n",
              "      <td>80.000000</td>\n",
              "      <td>2.000000</td>\n",
              "      <td>39.000000</td>\n",
              "      <td>800.000000</td>\n",
              "      <td>0.000000</td>\n",
              "      <td>791.000000</td>\n",
              "      <td>0.000000</td>\n",
              "      <td>...</td>\n",
              "      <td>0.000000</td>\n",
              "      <td>0.000000</td>\n",
              "      <td>0.000000</td>\n",
              "      <td>0.000000</td>\n",
              "      <td>0.000000</td>\n",
              "      <td>0.000000</td>\n",
              "      <td>0.000000</td>\n",
              "      <td>1.000000</td>\n",
              "      <td>1.000000</td>\n",
              "      <td>0.000000</td>\n",
              "    </tr>\n",
              "    <tr>\n",
              "      <th>max</th>\n",
              "      <td>6.750000</td>\n",
              "      <td>1.200000e+06</td>\n",
              "      <td>360.000000</td>\n",
              "      <td>97.000000</td>\n",
              "      <td>2.000000</td>\n",
              "      <td>64.000000</td>\n",
              "      <td>840.000000</td>\n",
              "      <td>40.000000</td>\n",
              "      <td>836.000000</td>\n",
              "      <td>1.000000</td>\n",
              "      <td>...</td>\n",
              "      <td>1.000000</td>\n",
              "      <td>1.000000</td>\n",
              "      <td>1.000000</td>\n",
              "      <td>1.000000</td>\n",
              "      <td>1.000000</td>\n",
              "      <td>1.000000</td>\n",
              "      <td>1.000000</td>\n",
              "      <td>1.000000</td>\n",
              "      <td>1.000000</td>\n",
              "      <td>1.000000</td>\n",
              "    </tr>\n",
              "  </tbody>\n",
              "</table>\n",
              "<p>8 rows × 47 columns</p>\n",
              "</div>\n",
              "      <button class=\"colab-df-convert\" onclick=\"convertToInteractive('df-4a2be430-268c-4bfd-8af3-85b34d44f815')\"\n",
              "              title=\"Convert this dataframe to an interactive table.\"\n",
              "              style=\"display:none;\">\n",
              "        \n",
              "  <svg xmlns=\"http://www.w3.org/2000/svg\" height=\"24px\"viewBox=\"0 0 24 24\"\n",
              "       width=\"24px\">\n",
              "    <path d=\"M0 0h24v24H0V0z\" fill=\"none\"/>\n",
              "    <path d=\"M18.56 5.44l.94 2.06.94-2.06 2.06-.94-2.06-.94-.94-2.06-.94 2.06-2.06.94zm-11 1L8.5 8.5l.94-2.06 2.06-.94-2.06-.94L8.5 2.5l-.94 2.06-2.06.94zm10 10l.94 2.06.94-2.06 2.06-.94-2.06-.94-.94-2.06-.94 2.06-2.06.94z\"/><path d=\"M17.41 7.96l-1.37-1.37c-.4-.4-.92-.59-1.43-.59-.52 0-1.04.2-1.43.59L10.3 9.45l-7.72 7.72c-.78.78-.78 2.05 0 2.83L4 21.41c.39.39.9.59 1.41.59.51 0 1.02-.2 1.41-.59l7.78-7.78 2.81-2.81c.8-.78.8-2.07 0-2.86zM5.41 20L4 18.59l7.72-7.72 1.47 1.35L5.41 20z\"/>\n",
              "  </svg>\n",
              "      </button>\n",
              "      \n",
              "  <style>\n",
              "    .colab-df-container {\n",
              "      display:flex;\n",
              "      flex-wrap:wrap;\n",
              "      gap: 12px;\n",
              "    }\n",
              "\n",
              "    .colab-df-convert {\n",
              "      background-color: #E8F0FE;\n",
              "      border: none;\n",
              "      border-radius: 50%;\n",
              "      cursor: pointer;\n",
              "      display: none;\n",
              "      fill: #1967D2;\n",
              "      height: 32px;\n",
              "      padding: 0 0 0 0;\n",
              "      width: 32px;\n",
              "    }\n",
              "\n",
              "    .colab-df-convert:hover {\n",
              "      background-color: #E2EBFA;\n",
              "      box-shadow: 0px 1px 2px rgba(60, 64, 67, 0.3), 0px 1px 3px 1px rgba(60, 64, 67, 0.15);\n",
              "      fill: #174EA6;\n",
              "    }\n",
              "\n",
              "    [theme=dark] .colab-df-convert {\n",
              "      background-color: #3B4455;\n",
              "      fill: #D2E3FC;\n",
              "    }\n",
              "\n",
              "    [theme=dark] .colab-df-convert:hover {\n",
              "      background-color: #434B5C;\n",
              "      box-shadow: 0px 1px 3px 1px rgba(0, 0, 0, 0.15);\n",
              "      filter: drop-shadow(0px 1px 2px rgba(0, 0, 0, 0.3));\n",
              "      fill: #FFFFFF;\n",
              "    }\n",
              "  </style>\n",
              "\n",
              "      <script>\n",
              "        const buttonEl =\n",
              "          document.querySelector('#df-4a2be430-268c-4bfd-8af3-85b34d44f815 button.colab-df-convert');\n",
              "        buttonEl.style.display =\n",
              "          google.colab.kernel.accessAllowed ? 'block' : 'none';\n",
              "\n",
              "        async function convertToInteractive(key) {\n",
              "          const element = document.querySelector('#df-4a2be430-268c-4bfd-8af3-85b34d44f815');\n",
              "          const dataTable =\n",
              "            await google.colab.kernel.invokeFunction('convertToInteractive',\n",
              "                                                     [key], {});\n",
              "          if (!dataTable) return;\n",
              "\n",
              "          const docLinkHtml = 'Like what you see? Visit the ' +\n",
              "            '<a target=\"_blank\" href=https://colab.research.google.com/notebooks/data_table.ipynb>data table notebook</a>'\n",
              "            + ' to learn more about interactive tables.';\n",
              "          element.innerHTML = '';\n",
              "          dataTable['output_type'] = 'display_data';\n",
              "          await google.colab.output.renderOutput(dataTable, element);\n",
              "          const docLink = document.createElement('div');\n",
              "          docLink.innerHTML = docLinkHtml;\n",
              "          element.appendChild(docLink);\n",
              "        }\n",
              "      </script>\n",
              "    </div>\n",
              "  </div>\n",
              "  "
            ]
          },
          "metadata": {},
          "execution_count": 173
        }
      ],
      "source": [
        "x.describe()"
      ],
      "id": "d60682ba"
    },
    {
      "cell_type": "markdown",
      "source": [
        "# Feature Engineering"
      ],
      "metadata": {
        "id": "ayaNeu9CwDaK"
      },
      "id": "ayaNeu9CwDaK"
    },
    {
      "cell_type": "code",
      "execution_count": 174,
      "metadata": {
        "id": "1d48077d"
      },
      "outputs": [],
      "source": [
        "x[\"total_credit_score\"] = x['borrower_credit_score'] + x['co-borrower_credit_score']"
      ],
      "id": "1d48077d"
    },
    {
      "cell_type": "code",
      "execution_count": 175,
      "metadata": {
        "id": "523d2e7b"
      },
      "outputs": [],
      "source": [
        "x = x.drop(['borrower_credit_score','co-borrower_credit_score'], axis=1)"
      ],
      "id": "523d2e7b"
    },
    {
      "cell_type": "code",
      "execution_count": 176,
      "metadata": {
        "id": "e909048b"
      },
      "outputs": [],
      "source": [
        "repay_cols = ['m1',\n",
        "       'm2', 'm3', 'm4', 'm5', 'm6', 'm7', 'm8', 'm9', 'm10', 'm11', 'm12']"
      ],
      "id": "e909048b"
    },
    {
      "cell_type": "code",
      "execution_count": 177,
      "metadata": {
        "id": "55189c7a"
      },
      "outputs": [],
      "source": [
        "x[\"m_mean\"] = x[repay_cols].mean(axis=1)"
      ],
      "id": "55189c7a"
    },
    {
      "cell_type": "code",
      "execution_count": 178,
      "metadata": {
        "colab": {
          "base_uri": "https://localhost:8080/"
        },
        "id": "c13e3436",
        "outputId": "9061f01c-e78a-4fec-ea3a-84b1e3898281"
      },
      "outputs": [
        {
          "output_type": "execute_result",
          "data": {
            "text/plain": [
              "-1.6500000000000004"
            ]
          },
          "metadata": {},
          "execution_count": 178
        }
      ],
      "source": [
        "x[repay_cols].loc[3,repay_cols].kurt()"
      ],
      "id": "c13e3436"
    },
    {
      "cell_type": "code",
      "execution_count": 179,
      "metadata": {
        "id": "2cee00a6"
      },
      "outputs": [],
      "source": [
        "x[\"m_median\"] = x[repay_cols].median(axis=1)"
      ],
      "id": "2cee00a6"
    },
    {
      "cell_type": "code",
      "execution_count": 180,
      "metadata": {
        "id": "f430a47a"
      },
      "outputs": [],
      "source": [
        "x[\"m_std\"] = x[repay_cols].std(axis=1)"
      ],
      "id": "f430a47a"
    },
    {
      "cell_type": "code",
      "execution_count": 181,
      "metadata": {
        "id": "335ec577"
      },
      "outputs": [],
      "source": [
        "x[\"m_skew\"] = x[repay_cols].skew(axis=1)"
      ],
      "id": "335ec577"
    },
    {
      "cell_type": "code",
      "execution_count": 182,
      "metadata": {
        "id": "d1004e89"
      },
      "outputs": [],
      "source": [
        "x[\"m_kurt\"] = x[repay_cols].kurt(axis=1)"
      ],
      "id": "d1004e89"
    },
    {
      "cell_type": "code",
      "execution_count": 183,
      "metadata": {
        "colab": {
          "base_uri": "https://localhost:8080/"
        },
        "id": "cd7f76d4",
        "outputId": "27902a74-7294-4b2e-c042-676bf47ad887"
      },
      "outputs": [
        {
          "output_type": "execute_result",
          "data": {
            "text/plain": [
              "Index(['interest_rate', 'unpaid_principal_bal', 'loan_term', 'loan_to_value',\n",
              "       'number_of_borrowers', 'debt_to_income_ratio', 'insurance_percent',\n",
              "       'insurance_type', 'm1', 'm2', 'm3', 'm4', 'm5', 'm6', 'm7', 'm8', 'm9',\n",
              "       'm10', 'm11', 'm12', 'source_X', 'source_Y', 'source_Z',\n",
              "       'financial_institution_Anderson-Taylor',\n",
              "       'financial_institution_Browning-Hart',\n",
              "       'financial_institution_Chapman-Mcmahon',\n",
              "       'financial_institution_Cole, Brooks and Vincent',\n",
              "       'financial_institution_Edwards-Hoffman',\n",
              "       'financial_institution_Martinez, Duffy and Bird',\n",
              "       'financial_institution_Miller, Mcclure and Allen',\n",
              "       'financial_institution_Nicholson Group', 'financial_institution_OTHER',\n",
              "       'financial_institution_Richards-Walters',\n",
              "       'financial_institution_Richardson Ltd',\n",
              "       'financial_institution_Romero, Woods and Johnson',\n",
              "       'financial_institution_Sanchez, Hays and Wilkerson',\n",
              "       'financial_institution_Sanchez-Robinson',\n",
              "       'financial_institution_Suarez Inc',\n",
              "       'financial_institution_Swanson, Newton and Miller',\n",
              "       'financial_institution_Taylor, Hunt and Rodriguez',\n",
              "       'financial_institution_Thornton-Davis',\n",
              "       'financial_institution_Turner, Baldwin and Rhodes', 'loan_purpose_A23',\n",
              "       'loan_purpose_B12', 'loan_purpose_C86', 'total_credit_score', 'm_mean',\n",
              "       'm_median', 'm_std', 'm_skew', 'm_kurt'],\n",
              "      dtype='object')"
            ]
          },
          "metadata": {},
          "execution_count": 183
        }
      ],
      "source": [
        "x.columns"
      ],
      "id": "cd7f76d4"
    },
    {
      "cell_type": "code",
      "execution_count": 184,
      "metadata": {
        "colab": {
          "base_uri": "https://localhost:8080/"
        },
        "id": "9f042944",
        "outputId": "dee88224-ab17-4a6c-9930-5981dd8d3041"
      },
      "outputs": [
        {
          "output_type": "execute_result",
          "data": {
            "text/plain": [
              "0    0.994518\n",
              "1    0.005482\n",
              "Name: m13, dtype: float64"
            ]
          },
          "metadata": {},
          "execution_count": 184
        }
      ],
      "source": [
        "y.value_counts(normalize = True)"
      ],
      "id": "9f042944"
    },
    {
      "cell_type": "code",
      "execution_count": 185,
      "metadata": {
        "colab": {
          "base_uri": "https://localhost:8080/"
        },
        "id": "85c466e6",
        "outputId": "7b10324f-d7cd-4eea-9cc9-52846de131b6"
      },
      "outputs": [
        {
          "output_type": "execute_result",
          "data": {
            "text/plain": [
              "0    115371\n",
              "1       636\n",
              "Name: m13, dtype: int64"
            ]
          },
          "metadata": {},
          "execution_count": 185
        }
      ],
      "source": [
        "y.value_counts()"
      ],
      "id": "85c466e6"
    },
    {
      "cell_type": "code",
      "execution_count": 186,
      "metadata": {
        "id": "ec485298"
      },
      "outputs": [],
      "source": [
        "### over sampling  "
      ],
      "id": "ec485298"
    },
    {
      "cell_type": "code",
      "execution_count": 186,
      "metadata": {
        "id": "d70c4344"
      },
      "outputs": [],
      "source": [],
      "id": "d70c4344"
    },
    {
      "cell_type": "markdown",
      "metadata": {
        "id": "d206737a"
      },
      "source": [
        "0 - 115370 , 1  115370 "
      ],
      "id": "d206737a"
    },
    {
      "cell_type": "code",
      "execution_count": 187,
      "metadata": {
        "id": "e397b46f"
      },
      "outputs": [],
      "source": [
        "#### under sampling"
      ],
      "id": "e397b46f"
    },
    {
      "cell_type": "markdown",
      "metadata": {
        "id": "fa2c1977"
      },
      "source": [
        "0 - 636, 1 - 636"
      ],
      "id": "fa2c1977"
    },
    {
      "cell_type": "code",
      "execution_count": 188,
      "metadata": {
        "id": "b73e63fe"
      },
      "outputs": [],
      "source": [
        "from sklearn.model_selection import train_test_split"
      ],
      "id": "b73e63fe"
    },
    {
      "cell_type": "code",
      "execution_count": 189,
      "metadata": {
        "id": "c3ec60a6"
      },
      "outputs": [],
      "source": [
        "x_train, x_test , y_train, y_test = train_test_split(x,y, test_size = 0.2,\n",
        "                                                    random_state = 345, \n",
        "                                                     stratify= y )"
      ],
      "id": "c3ec60a6"
    },
    {
      "cell_type": "code",
      "source": [
        "from sklearn.preprocessing import MinMaxScaler"
      ],
      "metadata": {
        "id": "0D8mUa7iy9cJ"
      },
      "id": "0D8mUa7iy9cJ",
      "execution_count": 190,
      "outputs": []
    },
    {
      "cell_type": "code",
      "execution_count": 191,
      "metadata": {
        "id": "8f188226"
      },
      "outputs": [],
      "source": [
        "sc = MinMaxScaler()"
      ],
      "id": "8f188226"
    },
    {
      "cell_type": "code",
      "execution_count": 192,
      "metadata": {
        "id": "57c510fa"
      },
      "outputs": [],
      "source": [
        "x_train = sc.fit_transform(x_train)\n",
        "x_test = sc.fit_transform(x_test)"
      ],
      "id": "57c510fa"
    },
    {
      "cell_type": "code",
      "execution_count": 192,
      "metadata": {
        "id": "834bc27b"
      },
      "outputs": [],
      "source": [],
      "id": "834bc27b"
    },
    {
      "cell_type": "code",
      "execution_count": 193,
      "metadata": {
        "colab": {
          "base_uri": "https://localhost:8080/"
        },
        "id": "bf5b3608",
        "outputId": "d74a2235-5430-40e6-d21a-f63c075c6cda"
      },
      "outputs": [
        {
          "output_type": "execute_result",
          "data": {
            "text/plain": [
              "99.5"
            ]
          },
          "metadata": {},
          "execution_count": 193
        }
      ],
      "source": [
        "99.5 "
      ],
      "id": "bf5b3608"
    },
    {
      "cell_type": "code",
      "execution_count": 194,
      "metadata": {
        "id": "ac4ae8cb"
      },
      "outputs": [],
      "source": [
        "from sklearn.linear_model import LogisticRegression"
      ],
      "id": "ac4ae8cb"
    },
    {
      "cell_type": "code",
      "execution_count": 195,
      "metadata": {
        "id": "a568b56d"
      },
      "outputs": [],
      "source": [
        "lg = LogisticRegression(max_iter = 5000)"
      ],
      "id": "a568b56d"
    },
    {
      "cell_type": "code",
      "execution_count": 196,
      "metadata": {
        "colab": {
          "base_uri": "https://localhost:8080/",
          "height": 75
        },
        "id": "a631d49e",
        "outputId": "7da67597-fe2d-4657-eb16-61a8711049f9"
      },
      "outputs": [
        {
          "output_type": "execute_result",
          "data": {
            "text/plain": [
              "LogisticRegression(max_iter=5000)"
            ],
            "text/html": [
              "<style>#sk-container-id-4 {color: black;background-color: white;}#sk-container-id-4 pre{padding: 0;}#sk-container-id-4 div.sk-toggleable {background-color: white;}#sk-container-id-4 label.sk-toggleable__label {cursor: pointer;display: block;width: 100%;margin-bottom: 0;padding: 0.3em;box-sizing: border-box;text-align: center;}#sk-container-id-4 label.sk-toggleable__label-arrow:before {content: \"▸\";float: left;margin-right: 0.25em;color: #696969;}#sk-container-id-4 label.sk-toggleable__label-arrow:hover:before {color: black;}#sk-container-id-4 div.sk-estimator:hover label.sk-toggleable__label-arrow:before {color: black;}#sk-container-id-4 div.sk-toggleable__content {max-height: 0;max-width: 0;overflow: hidden;text-align: left;background-color: #f0f8ff;}#sk-container-id-4 div.sk-toggleable__content pre {margin: 0.2em;color: black;border-radius: 0.25em;background-color: #f0f8ff;}#sk-container-id-4 input.sk-toggleable__control:checked~div.sk-toggleable__content {max-height: 200px;max-width: 100%;overflow: auto;}#sk-container-id-4 input.sk-toggleable__control:checked~label.sk-toggleable__label-arrow:before {content: \"▾\";}#sk-container-id-4 div.sk-estimator input.sk-toggleable__control:checked~label.sk-toggleable__label {background-color: #d4ebff;}#sk-container-id-4 div.sk-label input.sk-toggleable__control:checked~label.sk-toggleable__label {background-color: #d4ebff;}#sk-container-id-4 input.sk-hidden--visually {border: 0;clip: rect(1px 1px 1px 1px);clip: rect(1px, 1px, 1px, 1px);height: 1px;margin: -1px;overflow: hidden;padding: 0;position: absolute;width: 1px;}#sk-container-id-4 div.sk-estimator {font-family: monospace;background-color: #f0f8ff;border: 1px dotted black;border-radius: 0.25em;box-sizing: border-box;margin-bottom: 0.5em;}#sk-container-id-4 div.sk-estimator:hover {background-color: #d4ebff;}#sk-container-id-4 div.sk-parallel-item::after {content: \"\";width: 100%;border-bottom: 1px solid gray;flex-grow: 1;}#sk-container-id-4 div.sk-label:hover label.sk-toggleable__label {background-color: #d4ebff;}#sk-container-id-4 div.sk-serial::before {content: \"\";position: absolute;border-left: 1px solid gray;box-sizing: border-box;top: 0;bottom: 0;left: 50%;z-index: 0;}#sk-container-id-4 div.sk-serial {display: flex;flex-direction: column;align-items: center;background-color: white;padding-right: 0.2em;padding-left: 0.2em;position: relative;}#sk-container-id-4 div.sk-item {position: relative;z-index: 1;}#sk-container-id-4 div.sk-parallel {display: flex;align-items: stretch;justify-content: center;background-color: white;position: relative;}#sk-container-id-4 div.sk-item::before, #sk-container-id-4 div.sk-parallel-item::before {content: \"\";position: absolute;border-left: 1px solid gray;box-sizing: border-box;top: 0;bottom: 0;left: 50%;z-index: -1;}#sk-container-id-4 div.sk-parallel-item {display: flex;flex-direction: column;z-index: 1;position: relative;background-color: white;}#sk-container-id-4 div.sk-parallel-item:first-child::after {align-self: flex-end;width: 50%;}#sk-container-id-4 div.sk-parallel-item:last-child::after {align-self: flex-start;width: 50%;}#sk-container-id-4 div.sk-parallel-item:only-child::after {width: 0;}#sk-container-id-4 div.sk-dashed-wrapped {border: 1px dashed gray;margin: 0 0.4em 0.5em 0.4em;box-sizing: border-box;padding-bottom: 0.4em;background-color: white;}#sk-container-id-4 div.sk-label label {font-family: monospace;font-weight: bold;display: inline-block;line-height: 1.2em;}#sk-container-id-4 div.sk-label-container {text-align: center;}#sk-container-id-4 div.sk-container {/* jupyter's `normalize.less` sets `[hidden] { display: none; }` but bootstrap.min.css set `[hidden] { display: none !important; }` so we also need the `!important` here to be able to override the default hidden behavior on the sphinx rendered scikit-learn.org. See: https://github.com/scikit-learn/scikit-learn/issues/21755 */display: inline-block !important;position: relative;}#sk-container-id-4 div.sk-text-repr-fallback {display: none;}</style><div id=\"sk-container-id-4\" class=\"sk-top-container\"><div class=\"sk-text-repr-fallback\"><pre>LogisticRegression(max_iter=5000)</pre><b>In a Jupyter environment, please rerun this cell to show the HTML representation or trust the notebook. <br />On GitHub, the HTML representation is unable to render, please try loading this page with nbviewer.org.</b></div><div class=\"sk-container\" hidden><div class=\"sk-item\"><div class=\"sk-estimator sk-toggleable\"><input class=\"sk-toggleable__control sk-hidden--visually\" id=\"sk-estimator-id-4\" type=\"checkbox\" checked><label for=\"sk-estimator-id-4\" class=\"sk-toggleable__label sk-toggleable__label-arrow\">LogisticRegression</label><div class=\"sk-toggleable__content\"><pre>LogisticRegression(max_iter=5000)</pre></div></div></div></div></div>"
            ]
          },
          "metadata": {},
          "execution_count": 196
        }
      ],
      "source": [
        "lg.fit(x_train, y_train)"
      ],
      "id": "a631d49e"
    },
    {
      "cell_type": "code",
      "execution_count": 197,
      "metadata": {
        "id": "99f6f47f"
      },
      "outputs": [],
      "source": [
        "y_pred = lg.predict(x_test)"
      ],
      "id": "99f6f47f"
    },
    {
      "cell_type": "code",
      "execution_count": 198,
      "metadata": {
        "id": "fee22610"
      },
      "outputs": [],
      "source": [
        "from sklearn.metrics import f1_score,precision_score,recall_score, accuracy_score, confusion_matrix"
      ],
      "id": "fee22610"
    },
    {
      "cell_type": "code",
      "execution_count": 199,
      "metadata": {
        "colab": {
          "base_uri": "https://localhost:8080/"
        },
        "id": "a6366fc2",
        "outputId": "a97bf564-4c1c-47e9-e833-0ec721ac9338"
      },
      "outputs": [
        {
          "output_type": "stream",
          "name": "stdout",
          "text": [
            "Accuracy 0.9956900267218344 \n",
            "Precision Score 0.8857142857142857 \n",
            "Recall score 0.2440944881889764 \n",
            "F1_Score 0.3827160493827161\n"
          ]
        }
      ],
      "source": [
        "acc=accuracy_score(y_test,y_pred)\n",
        "prec=precision_score(y_test,y_pred)\n",
        "f1score=f1_score(y_test,y_pred)\n",
        "recall=recall_score(y_test,y_pred)\n",
        "print(\"Accuracy\",acc,\"\\nPrecision Score\",prec,\"\\nRecall score\",recall,\"\\nF1_Score\",f1score)"
      ],
      "id": "a6366fc2"
    },
    {
      "cell_type": "code",
      "execution_count": 200,
      "metadata": {
        "colab": {
          "base_uri": "https://localhost:8080/"
        },
        "id": "7a89c5d5",
        "outputId": "f90e7d12-6f06-458d-a2e3-38d74ca4b886"
      },
      "outputs": [
        {
          "output_type": "execute_result",
          "data": {
            "text/plain": [
              "0    23075\n",
              "1      127\n",
              "Name: m13, dtype: int64"
            ]
          },
          "metadata": {},
          "execution_count": 200
        }
      ],
      "source": [
        "pd.Series(y_test).value_counts()"
      ],
      "id": "7a89c5d5"
    },
    {
      "cell_type": "code",
      "execution_count": 201,
      "metadata": {
        "colab": {
          "base_uri": "https://localhost:8080/"
        },
        "id": "f19fedbf",
        "outputId": "17eabff8-59f0-4933-9486-ccd25b74ee3a"
      },
      "outputs": [
        {
          "output_type": "execute_result",
          "data": {
            "text/plain": [
              "array([[23071,     4],\n",
              "       [   96,    31]])"
            ]
          },
          "metadata": {},
          "execution_count": 201
        }
      ],
      "source": [
        "confusion_matrix(y_test, y_pred)"
      ],
      "id": "f19fedbf"
    },
    {
      "cell_type": "code",
      "execution_count": 202,
      "metadata": {
        "id": "388d569c"
      },
      "outputs": [],
      "source": [
        "#### it needs to be improved"
      ],
      "id": "388d569c"
    },
    {
      "cell_type": "code",
      "execution_count": 203,
      "metadata": {
        "colab": {
          "base_uri": "https://localhost:8080/"
        },
        "id": "6b2ab289",
        "outputId": "10c07f48-bf6e-41d9-f965-622b572162c0"
      },
      "outputs": [
        {
          "output_type": "execute_result",
          "data": {
            "text/plain": [
              "0.2440944881889764"
            ]
          },
          "metadata": {},
          "execution_count": 203
        }
      ],
      "source": [
        "recall_score(y_test, y_pred)"
      ],
      "id": "6b2ab289"
    },
    {
      "cell_type": "code",
      "execution_count": 204,
      "metadata": {
        "id": "8012a680"
      },
      "outputs": [],
      "source": [
        "from sklearn.neighbors import KNeighborsClassifier"
      ],
      "id": "8012a680"
    },
    {
      "cell_type": "code",
      "execution_count": 205,
      "metadata": {
        "id": "d7d08459"
      },
      "outputs": [],
      "source": [
        "knn = KNeighborsClassifier(n_neighbors=13)"
      ],
      "id": "d7d08459"
    },
    {
      "cell_type": "code",
      "execution_count": 206,
      "metadata": {
        "colab": {
          "base_uri": "https://localhost:8080/",
          "height": 75
        },
        "id": "f35e153a",
        "outputId": "7ae1bcd2-689f-4d43-9769-3af836d336ba"
      },
      "outputs": [
        {
          "output_type": "execute_result",
          "data": {
            "text/plain": [
              "KNeighborsClassifier(n_neighbors=13)"
            ],
            "text/html": [
              "<style>#sk-container-id-5 {color: black;background-color: white;}#sk-container-id-5 pre{padding: 0;}#sk-container-id-5 div.sk-toggleable {background-color: white;}#sk-container-id-5 label.sk-toggleable__label {cursor: pointer;display: block;width: 100%;margin-bottom: 0;padding: 0.3em;box-sizing: border-box;text-align: center;}#sk-container-id-5 label.sk-toggleable__label-arrow:before {content: \"▸\";float: left;margin-right: 0.25em;color: #696969;}#sk-container-id-5 label.sk-toggleable__label-arrow:hover:before {color: black;}#sk-container-id-5 div.sk-estimator:hover label.sk-toggleable__label-arrow:before {color: black;}#sk-container-id-5 div.sk-toggleable__content {max-height: 0;max-width: 0;overflow: hidden;text-align: left;background-color: #f0f8ff;}#sk-container-id-5 div.sk-toggleable__content pre {margin: 0.2em;color: black;border-radius: 0.25em;background-color: #f0f8ff;}#sk-container-id-5 input.sk-toggleable__control:checked~div.sk-toggleable__content {max-height: 200px;max-width: 100%;overflow: auto;}#sk-container-id-5 input.sk-toggleable__control:checked~label.sk-toggleable__label-arrow:before {content: \"▾\";}#sk-container-id-5 div.sk-estimator input.sk-toggleable__control:checked~label.sk-toggleable__label {background-color: #d4ebff;}#sk-container-id-5 div.sk-label input.sk-toggleable__control:checked~label.sk-toggleable__label {background-color: #d4ebff;}#sk-container-id-5 input.sk-hidden--visually {border: 0;clip: rect(1px 1px 1px 1px);clip: rect(1px, 1px, 1px, 1px);height: 1px;margin: -1px;overflow: hidden;padding: 0;position: absolute;width: 1px;}#sk-container-id-5 div.sk-estimator {font-family: monospace;background-color: #f0f8ff;border: 1px dotted black;border-radius: 0.25em;box-sizing: border-box;margin-bottom: 0.5em;}#sk-container-id-5 div.sk-estimator:hover {background-color: #d4ebff;}#sk-container-id-5 div.sk-parallel-item::after {content: \"\";width: 100%;border-bottom: 1px solid gray;flex-grow: 1;}#sk-container-id-5 div.sk-label:hover label.sk-toggleable__label {background-color: #d4ebff;}#sk-container-id-5 div.sk-serial::before {content: \"\";position: absolute;border-left: 1px solid gray;box-sizing: border-box;top: 0;bottom: 0;left: 50%;z-index: 0;}#sk-container-id-5 div.sk-serial {display: flex;flex-direction: column;align-items: center;background-color: white;padding-right: 0.2em;padding-left: 0.2em;position: relative;}#sk-container-id-5 div.sk-item {position: relative;z-index: 1;}#sk-container-id-5 div.sk-parallel {display: flex;align-items: stretch;justify-content: center;background-color: white;position: relative;}#sk-container-id-5 div.sk-item::before, #sk-container-id-5 div.sk-parallel-item::before {content: \"\";position: absolute;border-left: 1px solid gray;box-sizing: border-box;top: 0;bottom: 0;left: 50%;z-index: -1;}#sk-container-id-5 div.sk-parallel-item {display: flex;flex-direction: column;z-index: 1;position: relative;background-color: white;}#sk-container-id-5 div.sk-parallel-item:first-child::after {align-self: flex-end;width: 50%;}#sk-container-id-5 div.sk-parallel-item:last-child::after {align-self: flex-start;width: 50%;}#sk-container-id-5 div.sk-parallel-item:only-child::after {width: 0;}#sk-container-id-5 div.sk-dashed-wrapped {border: 1px dashed gray;margin: 0 0.4em 0.5em 0.4em;box-sizing: border-box;padding-bottom: 0.4em;background-color: white;}#sk-container-id-5 div.sk-label label {font-family: monospace;font-weight: bold;display: inline-block;line-height: 1.2em;}#sk-container-id-5 div.sk-label-container {text-align: center;}#sk-container-id-5 div.sk-container {/* jupyter's `normalize.less` sets `[hidden] { display: none; }` but bootstrap.min.css set `[hidden] { display: none !important; }` so we also need the `!important` here to be able to override the default hidden behavior on the sphinx rendered scikit-learn.org. See: https://github.com/scikit-learn/scikit-learn/issues/21755 */display: inline-block !important;position: relative;}#sk-container-id-5 div.sk-text-repr-fallback {display: none;}</style><div id=\"sk-container-id-5\" class=\"sk-top-container\"><div class=\"sk-text-repr-fallback\"><pre>KNeighborsClassifier(n_neighbors=13)</pre><b>In a Jupyter environment, please rerun this cell to show the HTML representation or trust the notebook. <br />On GitHub, the HTML representation is unable to render, please try loading this page with nbviewer.org.</b></div><div class=\"sk-container\" hidden><div class=\"sk-item\"><div class=\"sk-estimator sk-toggleable\"><input class=\"sk-toggleable__control sk-hidden--visually\" id=\"sk-estimator-id-5\" type=\"checkbox\" checked><label for=\"sk-estimator-id-5\" class=\"sk-toggleable__label sk-toggleable__label-arrow\">KNeighborsClassifier</label><div class=\"sk-toggleable__content\"><pre>KNeighborsClassifier(n_neighbors=13)</pre></div></div></div></div></div>"
            ]
          },
          "metadata": {},
          "execution_count": 206
        }
      ],
      "source": [
        "knn.fit(x_train, y_train)"
      ],
      "id": "f35e153a"
    },
    {
      "cell_type": "code",
      "execution_count": 207,
      "metadata": {
        "id": "202d16ec"
      },
      "outputs": [],
      "source": [
        "y_pred = knn.predict(x_test)"
      ],
      "id": "202d16ec"
    },
    {
      "cell_type": "code",
      "execution_count": 208,
      "metadata": {
        "colab": {
          "base_uri": "https://localhost:8080/"
        },
        "id": "a2bbb230",
        "outputId": "549ef93a-e913-4e3f-ef9b-97502125aa21"
      },
      "outputs": [
        {
          "output_type": "stream",
          "name": "stdout",
          "text": [
            "Accuracy 0.9949573312645461 \n",
            "Precision Score 0.8571428571428571 \n",
            "Recall score 0.09448818897637795 \n",
            "F1_Score 0.17021276595744683\n"
          ]
        }
      ],
      "source": [
        "acc=accuracy_score(y_test,y_pred)\n",
        "prec=precision_score(y_test,y_pred)\n",
        "f1score=f1_score(y_test,y_pred)\n",
        "recall=recall_score(y_test,y_pred)\n",
        "print(\"Accuracy\",acc,\"\\nPrecision Score\",prec,\"\\nRecall score\",recall,\"\\nF1_Score\",f1score)"
      ],
      "id": "a2bbb230"
    },
    {
      "cell_type": "code",
      "execution_count": 209,
      "metadata": {
        "colab": {
          "base_uri": "https://localhost:8080/"
        },
        "id": "3baa76b7",
        "outputId": "c9a06266-89f2-4ce5-b114-ef1925fa3efe"
      },
      "outputs": [
        {
          "output_type": "execute_result",
          "data": {
            "text/plain": [
              "array([[23073,     2],\n",
              "       [  115,    12]])"
            ]
          },
          "metadata": {},
          "execution_count": 209
        }
      ],
      "source": [
        "confusion_matrix(y_test, y_pred)"
      ],
      "id": "3baa76b7"
    },
    {
      "cell_type": "code",
      "execution_count": 210,
      "metadata": {
        "colab": {
          "base_uri": "https://localhost:8080/"
        },
        "id": "e03d80fb",
        "outputId": "778ef84f-98d3-412c-d612-baabbf2fcbba"
      },
      "outputs": [
        {
          "output_type": "execute_result",
          "data": {
            "text/plain": [
              "0.09448818897637795"
            ]
          },
          "metadata": {},
          "execution_count": 210
        }
      ],
      "source": [
        "recall_score(y_test, y_pred)"
      ],
      "id": "e03d80fb"
    },
    {
      "cell_type": "code",
      "execution_count": 210,
      "metadata": {
        "id": "b4a09d18"
      },
      "outputs": [],
      "source": [],
      "id": "b4a09d18"
    },
    {
      "cell_type": "code",
      "execution_count": 211,
      "metadata": {
        "id": "7d4da045"
      },
      "outputs": [],
      "source": [
        "from sklearn.tree import DecisionTreeClassifier"
      ],
      "id": "7d4da045"
    },
    {
      "cell_type": "code",
      "execution_count": 212,
      "metadata": {
        "id": "a8d7fb58"
      },
      "outputs": [],
      "source": [
        "dt = DecisionTreeClassifier(max_depth= 8)"
      ],
      "id": "a8d7fb58"
    },
    {
      "cell_type": "code",
      "execution_count": 213,
      "metadata": {
        "colab": {
          "base_uri": "https://localhost:8080/",
          "height": 75
        },
        "id": "f9743145",
        "outputId": "bcb295f8-a546-4228-894c-95c6233ae4a7"
      },
      "outputs": [
        {
          "output_type": "execute_result",
          "data": {
            "text/plain": [
              "DecisionTreeClassifier(max_depth=8)"
            ],
            "text/html": [
              "<style>#sk-container-id-6 {color: black;background-color: white;}#sk-container-id-6 pre{padding: 0;}#sk-container-id-6 div.sk-toggleable {background-color: white;}#sk-container-id-6 label.sk-toggleable__label {cursor: pointer;display: block;width: 100%;margin-bottom: 0;padding: 0.3em;box-sizing: border-box;text-align: center;}#sk-container-id-6 label.sk-toggleable__label-arrow:before {content: \"▸\";float: left;margin-right: 0.25em;color: #696969;}#sk-container-id-6 label.sk-toggleable__label-arrow:hover:before {color: black;}#sk-container-id-6 div.sk-estimator:hover label.sk-toggleable__label-arrow:before {color: black;}#sk-container-id-6 div.sk-toggleable__content {max-height: 0;max-width: 0;overflow: hidden;text-align: left;background-color: #f0f8ff;}#sk-container-id-6 div.sk-toggleable__content pre {margin: 0.2em;color: black;border-radius: 0.25em;background-color: #f0f8ff;}#sk-container-id-6 input.sk-toggleable__control:checked~div.sk-toggleable__content {max-height: 200px;max-width: 100%;overflow: auto;}#sk-container-id-6 input.sk-toggleable__control:checked~label.sk-toggleable__label-arrow:before {content: \"▾\";}#sk-container-id-6 div.sk-estimator input.sk-toggleable__control:checked~label.sk-toggleable__label {background-color: #d4ebff;}#sk-container-id-6 div.sk-label input.sk-toggleable__control:checked~label.sk-toggleable__label {background-color: #d4ebff;}#sk-container-id-6 input.sk-hidden--visually {border: 0;clip: rect(1px 1px 1px 1px);clip: rect(1px, 1px, 1px, 1px);height: 1px;margin: -1px;overflow: hidden;padding: 0;position: absolute;width: 1px;}#sk-container-id-6 div.sk-estimator {font-family: monospace;background-color: #f0f8ff;border: 1px dotted black;border-radius: 0.25em;box-sizing: border-box;margin-bottom: 0.5em;}#sk-container-id-6 div.sk-estimator:hover {background-color: #d4ebff;}#sk-container-id-6 div.sk-parallel-item::after {content: \"\";width: 100%;border-bottom: 1px solid gray;flex-grow: 1;}#sk-container-id-6 div.sk-label:hover label.sk-toggleable__label {background-color: #d4ebff;}#sk-container-id-6 div.sk-serial::before {content: \"\";position: absolute;border-left: 1px solid gray;box-sizing: border-box;top: 0;bottom: 0;left: 50%;z-index: 0;}#sk-container-id-6 div.sk-serial {display: flex;flex-direction: column;align-items: center;background-color: white;padding-right: 0.2em;padding-left: 0.2em;position: relative;}#sk-container-id-6 div.sk-item {position: relative;z-index: 1;}#sk-container-id-6 div.sk-parallel {display: flex;align-items: stretch;justify-content: center;background-color: white;position: relative;}#sk-container-id-6 div.sk-item::before, #sk-container-id-6 div.sk-parallel-item::before {content: \"\";position: absolute;border-left: 1px solid gray;box-sizing: border-box;top: 0;bottom: 0;left: 50%;z-index: -1;}#sk-container-id-6 div.sk-parallel-item {display: flex;flex-direction: column;z-index: 1;position: relative;background-color: white;}#sk-container-id-6 div.sk-parallel-item:first-child::after {align-self: flex-end;width: 50%;}#sk-container-id-6 div.sk-parallel-item:last-child::after {align-self: flex-start;width: 50%;}#sk-container-id-6 div.sk-parallel-item:only-child::after {width: 0;}#sk-container-id-6 div.sk-dashed-wrapped {border: 1px dashed gray;margin: 0 0.4em 0.5em 0.4em;box-sizing: border-box;padding-bottom: 0.4em;background-color: white;}#sk-container-id-6 div.sk-label label {font-family: monospace;font-weight: bold;display: inline-block;line-height: 1.2em;}#sk-container-id-6 div.sk-label-container {text-align: center;}#sk-container-id-6 div.sk-container {/* jupyter's `normalize.less` sets `[hidden] { display: none; }` but bootstrap.min.css set `[hidden] { display: none !important; }` so we also need the `!important` here to be able to override the default hidden behavior on the sphinx rendered scikit-learn.org. See: https://github.com/scikit-learn/scikit-learn/issues/21755 */display: inline-block !important;position: relative;}#sk-container-id-6 div.sk-text-repr-fallback {display: none;}</style><div id=\"sk-container-id-6\" class=\"sk-top-container\"><div class=\"sk-text-repr-fallback\"><pre>DecisionTreeClassifier(max_depth=8)</pre><b>In a Jupyter environment, please rerun this cell to show the HTML representation or trust the notebook. <br />On GitHub, the HTML representation is unable to render, please try loading this page with nbviewer.org.</b></div><div class=\"sk-container\" hidden><div class=\"sk-item\"><div class=\"sk-estimator sk-toggleable\"><input class=\"sk-toggleable__control sk-hidden--visually\" id=\"sk-estimator-id-6\" type=\"checkbox\" checked><label for=\"sk-estimator-id-6\" class=\"sk-toggleable__label sk-toggleable__label-arrow\">DecisionTreeClassifier</label><div class=\"sk-toggleable__content\"><pre>DecisionTreeClassifier(max_depth=8)</pre></div></div></div></div></div>"
            ]
          },
          "metadata": {},
          "execution_count": 213
        }
      ],
      "source": [
        "dt.fit(x_train, y_train)"
      ],
      "id": "f9743145"
    },
    {
      "cell_type": "code",
      "execution_count": 214,
      "metadata": {
        "id": "ec322ccb"
      },
      "outputs": [],
      "source": [
        "y_pred = dt.predict(x_test)"
      ],
      "id": "ec322ccb"
    },
    {
      "cell_type": "code",
      "execution_count": 215,
      "metadata": {
        "colab": {
          "base_uri": "https://localhost:8080/"
        },
        "id": "fdc9d2e6",
        "outputId": "5ab1819b-7e3d-475b-9edc-afd794b54c66"
      },
      "outputs": [
        {
          "output_type": "stream",
          "name": "stdout",
          "text": [
            "Accuracy 0.975131454184984 \n",
            "Precision Score 0.07224334600760456 \n",
            "Recall score 0.2992125984251969 \n",
            "F1_Score 0.11638591117917303\n"
          ]
        }
      ],
      "source": [
        "acc=accuracy_score(y_test,y_pred)\n",
        "prec=precision_score(y_test,y_pred)\n",
        "f1score=f1_score(y_test,y_pred)\n",
        "recall=recall_score(y_test,y_pred)\n",
        "print(\"Accuracy\",acc,\"\\nPrecision Score\",prec,\"\\nRecall score\",recall,\"\\nF1_Score\",f1score)"
      ],
      "id": "fdc9d2e6"
    },
    {
      "cell_type": "code",
      "execution_count": 216,
      "metadata": {
        "id": "acca20e0"
      },
      "outputs": [],
      "source": [
        "#### voting classifier, bagging classifier, random forest classifier"
      ],
      "id": "acca20e0"
    },
    {
      "cell_type": "markdown",
      "source": [
        "## Random Forest"
      ],
      "metadata": {
        "id": "1fVelpkBzvYP"
      },
      "id": "1fVelpkBzvYP"
    },
    {
      "cell_type": "code",
      "execution_count": 217,
      "metadata": {
        "id": "mMgL9F_0J7AN"
      },
      "outputs": [],
      "source": [
        "from sklearn.ensemble import RandomForestClassifier\n",
        "rf=RandomForestClassifier()\n",
        "rf.fit(x_train,y_train)\n",
        "y_pred=rf.predict(x_test)"
      ],
      "id": "mMgL9F_0J7AN"
    },
    {
      "cell_type": "code",
      "source": [
        "acc=accuracy_score(y_test,y_pred)\n",
        "prec=precision_score(y_test,y_pred)\n",
        "f1score=f1_score(y_test,y_pred)\n",
        "recall=recall_score(y_test,y_pred)\n",
        "print(\"Accuracy\",acc,\"\\nPrecision Score\",prec,\"\\nRecall score\",recall,\"\\nF1_Score\",f1score)"
      ],
      "metadata": {
        "colab": {
          "base_uri": "https://localhost:8080/"
        },
        "id": "YgrQWmbZu2kk",
        "outputId": "96f2d73a-2beb-47ba-d1f7-0ca107c1a0ee"
      },
      "id": "YgrQWmbZu2kk",
      "execution_count": 218,
      "outputs": [
        {
          "output_type": "stream",
          "name": "stdout",
          "text": [
            "Accuracy 0.9959486251185242 \n",
            "Precision Score 0.726027397260274 \n",
            "Recall score 0.41732283464566927 \n",
            "F1_Score 0.53\n"
          ]
        }
      ]
    },
    {
      "cell_type": "markdown",
      "source": [
        "# Bagging Classifier"
      ],
      "metadata": {
        "id": "RlOhJywAz5JQ"
      },
      "id": "RlOhJywAz5JQ"
    },
    {
      "cell_type": "code",
      "source": [
        "from sklearn.ensemble import BaggingClassifier\n",
        "dt=DecisionTreeClassifier()\n",
        "bg=BaggingClassifier(estimator=dt,n_estimators=50)\n",
        "bg=BaggingClassifier()\n",
        "bg.fit(x_train,y_train)\n",
        "y_pred=bg.predict(x_test)"
      ],
      "metadata": {
        "id": "edPczN9sz33-"
      },
      "id": "edPczN9sz33-",
      "execution_count": 219,
      "outputs": []
    },
    {
      "cell_type": "code",
      "source": [
        "acc=accuracy_score(y_test,y_pred)\n",
        "prec=precision_score(y_test,y_pred)\n",
        "f1score=f1_score(y_test,y_pred)\n",
        "recall=recall_score(y_test,y_pred)\n",
        "print(\"Accuracy\",acc,\"\\nPrecision Score\",prec,\"\\nRecall score\",recall,\"\\nF1_Score\",f1score)"
      ],
      "metadata": {
        "colab": {
          "base_uri": "https://localhost:8080/"
        },
        "id": "mnXins2F0Mch",
        "outputId": "39fb789b-8d56-4012-87de-891d985e647e"
      },
      "id": "mnXins2F0Mch",
      "execution_count": 220,
      "outputs": [
        {
          "output_type": "stream",
          "name": "stdout",
          "text": [
            "Accuracy 0.9942677355400397 \n",
            "Precision Score 0.4666666666666667 \n",
            "Recall score 0.33070866141732286 \n",
            "F1_Score 0.3870967741935485\n"
          ]
        }
      ]
    },
    {
      "cell_type": "code",
      "source": [
        "confusion_matrix(y_test,y_pred)"
      ],
      "metadata": {
        "colab": {
          "base_uri": "https://localhost:8080/"
        },
        "id": "7Gq4KJWv0Qfu",
        "outputId": "4496ed98-b375-41c7-c4ba-87e4284f43af"
      },
      "id": "7Gq4KJWv0Qfu",
      "execution_count": 221,
      "outputs": [
        {
          "output_type": "execute_result",
          "data": {
            "text/plain": [
              "array([[23027,    48],\n",
              "       [   85,    42]])"
            ]
          },
          "metadata": {},
          "execution_count": 221
        }
      ]
    },
    {
      "cell_type": "markdown",
      "source": [
        "## Support Vector Machine"
      ],
      "metadata": {
        "id": "6CDF-KB90aRG"
      },
      "id": "6CDF-KB90aRG"
    },
    {
      "cell_type": "code",
      "source": [
        "from sklearn.svm import SVC\n",
        "sv_linear=SVC(kernel='linear')\n",
        "sv_linear.fit(x_train,y_train)\n",
        "y_pred=sv_linear.predict(x_test)\n"
      ],
      "metadata": {
        "id": "hqhekTHy0QlU"
      },
      "id": "hqhekTHy0QlU",
      "execution_count": 222,
      "outputs": []
    },
    {
      "cell_type": "code",
      "source": [
        "acc=accuracy_score(y_test,y_pred)\n",
        "prec=precision_score(y_test,y_pred)\n",
        "f1score=f1_score(y_test,y_pred)\n",
        "recall=recall_score(y_test,y_pred)\n",
        "print(\"Accuracy\",acc,\"\\nPrecision Score\",prec,\"\\nRecall score\",recall,\"\\nF1_Score\",f1score)"
      ],
      "metadata": {
        "colab": {
          "base_uri": "https://localhost:8080/"
        },
        "id": "E_vW_LpW0Qpd",
        "outputId": "5f59c009-2a8e-4a39-cfe7-3c1e7aa6f82a"
      },
      "id": "E_vW_LpW0Qpd",
      "execution_count": 223,
      "outputs": [
        {
          "output_type": "stream",
          "name": "stdout",
          "text": [
            "Accuracy 0.9960348245840875 \n",
            "Precision Score 0.7692307692307693 \n",
            "Recall score 0.3937007874015748 \n",
            "F1_Score 0.5208333333333333\n"
          ]
        }
      ]
    },
    {
      "cell_type": "code",
      "source": [
        "confusion_matrix(y_test,y_pred)"
      ],
      "metadata": {
        "colab": {
          "base_uri": "https://localhost:8080/"
        },
        "id": "Y6Z5dGKu0Qw4",
        "outputId": "9fe41a65-5044-493c-93b2-e1a62fa55ed4"
      },
      "id": "Y6Z5dGKu0Qw4",
      "execution_count": 224,
      "outputs": [
        {
          "output_type": "execute_result",
          "data": {
            "text/plain": [
              "array([[23060,    15],\n",
              "       [   77,    50]])"
            ]
          },
          "metadata": {},
          "execution_count": 224
        }
      ]
    },
    {
      "cell_type": "markdown",
      "source": [
        "## Voting Classsifier"
      ],
      "metadata": {
        "id": "V0N-UxD504ou"
      },
      "id": "V0N-UxD504ou"
    },
    {
      "cell_type": "code",
      "source": [
        "from sklearn.ensemble import VotingClassifier"
      ],
      "metadata": {
        "id": "QKKNyTey0zsl"
      },
      "id": "QKKNyTey0zsl",
      "execution_count": 225,
      "outputs": []
    },
    {
      "cell_type": "code",
      "source": [
        "SEED=1"
      ],
      "metadata": {
        "id": "WwaN_GjJ0zxk"
      },
      "id": "WwaN_GjJ0zxk",
      "execution_count": 226,
      "outputs": []
    },
    {
      "cell_type": "code",
      "source": [
        "x_train,x_test,y_train,y_test=train_test_split(x,y,test_size=0.2, random_state=SEED,stratify=y)"
      ],
      "metadata": {
        "id": "UQAdXVmw1IPe"
      },
      "id": "UQAdXVmw1IPe",
      "execution_count": 227,
      "outputs": []
    },
    {
      "cell_type": "code",
      "source": [
        "lr=LogisticRegression(random_state=SEED)\n",
        "dt=DecisionTreeClassifier(random_state=SEED)\n",
        "knn=KNeighborsClassifier()\n"
      ],
      "metadata": {
        "id": "2ZVbWtkx1LzQ"
      },
      "id": "2ZVbWtkx1LzQ",
      "execution_count": 228,
      "outputs": []
    },
    {
      "cell_type": "code",
      "source": [
        "classifiers=[('Logistic Regression',lr),('K Nearest Neighbors',knn),('Classification Tree',dt)]"
      ],
      "metadata": {
        "id": "XzSDpQMm0z1r"
      },
      "id": "XzSDpQMm0z1r",
      "execution_count": 229,
      "outputs": []
    },
    {
      "cell_type": "code",
      "source": [
        "for clf_name,clf in classifiers:\n",
        "    clf.fit(x_train,y_train)\n",
        "    y_pred=clf.predict(x_test)\n",
        "    print('{:s}:{:.3f}'.format(clf_name,f1_score(y_test,y_pred)))\n",
        "\n",
        "    print('{:s}:{:.3f}'.format(clf_name,recall_score(y_test,y_pred)))"
      ],
      "metadata": {
        "colab": {
          "base_uri": "https://localhost:8080/"
        },
        "id": "o3EEdhui0z4n",
        "outputId": "e4b74728-afd8-48f5-8c7a-29e3835aa13a"
      },
      "id": "o3EEdhui0z4n",
      "execution_count": 230,
      "outputs": [
        {
          "output_type": "stream",
          "name": "stdout",
          "text": [
            "Logistic Regression:0.000\n",
            "Logistic Regression:0.000\n",
            "K Nearest Neighbors:0.000\n",
            "K Nearest Neighbors:0.000\n",
            "Classification Tree:0.371\n",
            "Classification Tree:0.386\n"
          ]
        }
      ]
    },
    {
      "cell_type": "code",
      "source": [
        "acc=accuracy_score(y_test,y_pred)\n",
        "prec=precision_score(y_test,y_pred)\n",
        "f1score=f1_score(y_test,y_pred)\n",
        "recall=recall_score(y_test,y_pred)\n",
        "print(\"Accuracy\",acc,\"\\nPrecision Score\",prec,\"\\nRecall score\",recall,\"\\nF1_Score\",f1score)"
      ],
      "metadata": {
        "colab": {
          "base_uri": "https://localhost:8080/"
        },
        "id": "q0Vnl2La00NE",
        "outputId": "247795de-526a-458d-d6c5-4e9099285916"
      },
      "id": "q0Vnl2La00NE",
      "execution_count": 231,
      "outputs": [
        {
          "output_type": "stream",
          "name": "stdout",
          "text": [
            "Accuracy 0.992845444358245 \n",
            "Precision Score 0.35766423357664234 \n",
            "Recall score 0.3858267716535433 \n",
            "F1_Score 0.3712121212121212\n"
          ]
        }
      ]
    },
    {
      "cell_type": "code",
      "source": [
        "confusion_matrix(y_test,y_pred)"
      ],
      "metadata": {
        "colab": {
          "base_uri": "https://localhost:8080/"
        },
        "id": "FCRGbShq00lm",
        "outputId": "1c4e3713-0d08-478a-eac1-511bbfae9087"
      },
      "id": "FCRGbShq00lm",
      "execution_count": 232,
      "outputs": [
        {
          "output_type": "execute_result",
          "data": {
            "text/plain": [
              "array([[22987,    88],\n",
              "       [   78,    49]])"
            ]
          },
          "metadata": {},
          "execution_count": 232
        }
      ]
    },
    {
      "cell_type": "code",
      "source": [],
      "metadata": {
        "id": "v9HTXjmi002c"
      },
      "id": "v9HTXjmi002c",
      "execution_count": 232,
      "outputs": []
    },
    {
      "cell_type": "markdown",
      "source": [
        "Out of all algorithms, SVM and Random Forest have best F1-Score, which is 0.5. "
      ],
      "metadata": {
        "id": "80OAuBbQ2R4_"
      },
      "id": "80OAuBbQ2R4_"
    },
    {
      "cell_type": "code",
      "source": [],
      "metadata": {
        "id": "B0i_wYBp01D5"
      },
      "id": "B0i_wYBp01D5",
      "execution_count": 232,
      "outputs": []
    }
  ],
  "metadata": {
    "colab": {
      "provenance": []
    },
    "kernelspec": {
      "display_name": "Python 3 (ipykernel)",
      "language": "python",
      "name": "python3"
    },
    "language_info": {
      "codemirror_mode": {
        "name": "ipython",
        "version": 3
      },
      "file_extension": ".py",
      "mimetype": "text/x-python",
      "name": "python",
      "nbconvert_exporter": "python",
      "pygments_lexer": "ipython3",
      "version": "3.9.7"
    }
  },
  "nbformat": 4,
  "nbformat_minor": 5
}