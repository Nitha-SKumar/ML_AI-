{
 "cells": [
  {
   "cell_type": "code",
   "execution_count": 1,
   "metadata": {
    "executionInfo": {
     "elapsed": 604,
     "status": "ok",
     "timestamp": 1685168242092,
     "user": {
      "displayName": "Nitha S. Kumar",
      "userId": "13983699862887439843"
     },
     "user_tz": -240
    },
    "id": "L754z9la67kv"
   },
   "outputs": [],
   "source": [
    "import pandas as pd\n",
    "import numpy as np"
   ]
  },
  {
   "cell_type": "code",
   "execution_count": 2,
   "metadata": {
    "id": "LQzr1_o5wyfZ"
   },
   "outputs": [],
   "source": [
    "#from google.colab import drive\n",
    "#drive.mount('/content/drive')"
   ]
  },
  {
   "cell_type": "code",
   "execution_count": 3,
   "metadata": {
    "id": "D73Uj3-qw7ou"
   },
   "outputs": [],
   "source": [
    "#!cp \"/content/drive/MyDrive/ML AI/Assignment & Case Study/jokes/jokes-data.csv\" \"jokes-data.csv\""
   ]
  },
  {
   "cell_type": "code",
   "execution_count": 4,
   "metadata": {
    "id": "CO1E8RGh7yjH"
   },
   "outputs": [],
   "source": [
    "data = pd.read_csv(\"jokes-data.csv\")"
   ]
  },
  {
   "cell_type": "code",
   "execution_count": 5,
   "metadata": {
    "id": "BurtJQ998E4Z"
   },
   "outputs": [
    {
     "data": {
      "text/html": [
       "<div>\n",
       "<style scoped>\n",
       "    .dataframe tbody tr th:only-of-type {\n",
       "        vertical-align: middle;\n",
       "    }\n",
       "\n",
       "    .dataframe tbody tr th {\n",
       "        vertical-align: top;\n",
       "    }\n",
       "\n",
       "    .dataframe thead th {\n",
       "        text-align: right;\n",
       "    }\n",
       "</style>\n",
       "<table border=\"1\" class=\"dataframe\">\n",
       "  <thead>\n",
       "    <tr style=\"text-align: right;\">\n",
       "      <th></th>\n",
       "      <th>id</th>\n",
       "      <th>user_id</th>\n",
       "      <th>joke_id</th>\n",
       "      <th>Rating</th>\n",
       "    </tr>\n",
       "  </thead>\n",
       "  <tbody>\n",
       "    <tr>\n",
       "      <th>0</th>\n",
       "      <td>31030_110</td>\n",
       "      <td>31030</td>\n",
       "      <td>110</td>\n",
       "      <td>2.750</td>\n",
       "    </tr>\n",
       "    <tr>\n",
       "      <th>1</th>\n",
       "      <td>16144_109</td>\n",
       "      <td>16144</td>\n",
       "      <td>109</td>\n",
       "      <td>5.094</td>\n",
       "    </tr>\n",
       "    <tr>\n",
       "      <th>2</th>\n",
       "      <td>23098_6</td>\n",
       "      <td>23098</td>\n",
       "      <td>6</td>\n",
       "      <td>-6.438</td>\n",
       "    </tr>\n",
       "    <tr>\n",
       "      <th>3</th>\n",
       "      <td>14273_86</td>\n",
       "      <td>14273</td>\n",
       "      <td>86</td>\n",
       "      <td>4.406</td>\n",
       "    </tr>\n",
       "    <tr>\n",
       "      <th>4</th>\n",
       "      <td>18419_134</td>\n",
       "      <td>18419</td>\n",
       "      <td>134</td>\n",
       "      <td>9.375</td>\n",
       "    </tr>\n",
       "    <tr>\n",
       "      <th>...</th>\n",
       "      <td>...</td>\n",
       "      <td>...</td>\n",
       "      <td>...</td>\n",
       "      <td>...</td>\n",
       "    </tr>\n",
       "    <tr>\n",
       "      <th>1092054</th>\n",
       "      <td>9517_132</td>\n",
       "      <td>9517</td>\n",
       "      <td>132</td>\n",
       "      <td>3.156</td>\n",
       "    </tr>\n",
       "    <tr>\n",
       "      <th>1092055</th>\n",
       "      <td>27767_118</td>\n",
       "      <td>27767</td>\n",
       "      <td>118</td>\n",
       "      <td>-1.594</td>\n",
       "    </tr>\n",
       "    <tr>\n",
       "      <th>1092056</th>\n",
       "      <td>10580_81</td>\n",
       "      <td>10580</td>\n",
       "      <td>81</td>\n",
       "      <td>2.000</td>\n",
       "    </tr>\n",
       "    <tr>\n",
       "      <th>1092057</th>\n",
       "      <td>31007_119</td>\n",
       "      <td>31007</td>\n",
       "      <td>119</td>\n",
       "      <td>8.906</td>\n",
       "    </tr>\n",
       "    <tr>\n",
       "      <th>1092058</th>\n",
       "      <td>8420_98</td>\n",
       "      <td>8420</td>\n",
       "      <td>98</td>\n",
       "      <td>-3.344</td>\n",
       "    </tr>\n",
       "  </tbody>\n",
       "</table>\n",
       "<p>1092059 rows × 4 columns</p>\n",
       "</div>"
      ],
      "text/plain": [
       "                id  user_id  joke_id  Rating\n",
       "0        31030_110    31030      110   2.750\n",
       "1        16144_109    16144      109   5.094\n",
       "2          23098_6    23098        6  -6.438\n",
       "3         14273_86    14273       86   4.406\n",
       "4        18419_134    18419      134   9.375\n",
       "...            ...      ...      ...     ...\n",
       "1092054   9517_132     9517      132   3.156\n",
       "1092055  27767_118    27767      118  -1.594\n",
       "1092056   10580_81    10580       81   2.000\n",
       "1092057  31007_119    31007      119   8.906\n",
       "1092058    8420_98     8420       98  -3.344\n",
       "\n",
       "[1092059 rows x 4 columns]"
      ]
     },
     "execution_count": 5,
     "metadata": {},
     "output_type": "execute_result"
    }
   ],
   "source": [
    "data"
   ]
  },
  {
   "cell_type": "code",
   "execution_count": 6,
   "metadata": {
    "id": "o9wMa9cv8Zle"
   },
   "outputs": [
    {
     "data": {
      "text/plain": [
       "(1092059, 4)"
      ]
     },
     "execution_count": 6,
     "metadata": {},
     "output_type": "execute_result"
    }
   ],
   "source": [
    "data.shape"
   ]
  },
  {
   "cell_type": "code",
   "execution_count": 7,
   "metadata": {
    "id": "1k2ncKKT8jdx"
   },
   "outputs": [
    {
     "data": {
      "text/plain": [
       "40863"
      ]
     },
     "execution_count": 7,
     "metadata": {},
     "output_type": "execute_result"
    }
   ],
   "source": [
    "data['user_id'].nunique()"
   ]
  },
  {
   "cell_type": "code",
   "execution_count": 8,
   "metadata": {
    "id": "sBccv-Z38kSt"
   },
   "outputs": [
    {
     "data": {
      "text/plain": [
       "139"
      ]
     },
     "execution_count": 8,
     "metadata": {},
     "output_type": "execute_result"
    }
   ],
   "source": [
    "data['joke_id'].nunique()"
   ]
  },
  {
   "cell_type": "code",
   "execution_count": 9,
   "metadata": {
    "id": "_Lu2xkii8y2s"
   },
   "outputs": [
    {
     "data": {
      "text/plain": [
       "641"
      ]
     },
     "execution_count": 9,
     "metadata": {},
     "output_type": "execute_result"
    }
   ],
   "source": [
    "data['Rating'].nunique()"
   ]
  },
  {
   "cell_type": "code",
   "execution_count": 10,
   "metadata": {
    "id": "YwOhR9gd9g6L"
   },
   "outputs": [],
   "source": [
    "data2 = data[[\"user_id\",\t\"joke_id\",\t\"Rating\"]]"
   ]
  },
  {
   "cell_type": "code",
   "execution_count": 11,
   "metadata": {
    "id": "tw5CWnrD9rvu"
   },
   "outputs": [
    {
     "data": {
      "text/html": [
       "<div>\n",
       "<style scoped>\n",
       "    .dataframe tbody tr th:only-of-type {\n",
       "        vertical-align: middle;\n",
       "    }\n",
       "\n",
       "    .dataframe tbody tr th {\n",
       "        vertical-align: top;\n",
       "    }\n",
       "\n",
       "    .dataframe thead th {\n",
       "        text-align: right;\n",
       "    }\n",
       "</style>\n",
       "<table border=\"1\" class=\"dataframe\">\n",
       "  <thead>\n",
       "    <tr style=\"text-align: right;\">\n",
       "      <th></th>\n",
       "      <th>user_id</th>\n",
       "      <th>joke_id</th>\n",
       "      <th>Rating</th>\n",
       "    </tr>\n",
       "  </thead>\n",
       "  <tbody>\n",
       "    <tr>\n",
       "      <th>0</th>\n",
       "      <td>31030</td>\n",
       "      <td>110</td>\n",
       "      <td>2.750</td>\n",
       "    </tr>\n",
       "    <tr>\n",
       "      <th>1</th>\n",
       "      <td>16144</td>\n",
       "      <td>109</td>\n",
       "      <td>5.094</td>\n",
       "    </tr>\n",
       "    <tr>\n",
       "      <th>2</th>\n",
       "      <td>23098</td>\n",
       "      <td>6</td>\n",
       "      <td>-6.438</td>\n",
       "    </tr>\n",
       "    <tr>\n",
       "      <th>3</th>\n",
       "      <td>14273</td>\n",
       "      <td>86</td>\n",
       "      <td>4.406</td>\n",
       "    </tr>\n",
       "    <tr>\n",
       "      <th>4</th>\n",
       "      <td>18419</td>\n",
       "      <td>134</td>\n",
       "      <td>9.375</td>\n",
       "    </tr>\n",
       "    <tr>\n",
       "      <th>...</th>\n",
       "      <td>...</td>\n",
       "      <td>...</td>\n",
       "      <td>...</td>\n",
       "    </tr>\n",
       "    <tr>\n",
       "      <th>1092054</th>\n",
       "      <td>9517</td>\n",
       "      <td>132</td>\n",
       "      <td>3.156</td>\n",
       "    </tr>\n",
       "    <tr>\n",
       "      <th>1092055</th>\n",
       "      <td>27767</td>\n",
       "      <td>118</td>\n",
       "      <td>-1.594</td>\n",
       "    </tr>\n",
       "    <tr>\n",
       "      <th>1092056</th>\n",
       "      <td>10580</td>\n",
       "      <td>81</td>\n",
       "      <td>2.000</td>\n",
       "    </tr>\n",
       "    <tr>\n",
       "      <th>1092057</th>\n",
       "      <td>31007</td>\n",
       "      <td>119</td>\n",
       "      <td>8.906</td>\n",
       "    </tr>\n",
       "    <tr>\n",
       "      <th>1092058</th>\n",
       "      <td>8420</td>\n",
       "      <td>98</td>\n",
       "      <td>-3.344</td>\n",
       "    </tr>\n",
       "  </tbody>\n",
       "</table>\n",
       "<p>1092059 rows × 3 columns</p>\n",
       "</div>"
      ],
      "text/plain": [
       "         user_id  joke_id  Rating\n",
       "0          31030      110   2.750\n",
       "1          16144      109   5.094\n",
       "2          23098        6  -6.438\n",
       "3          14273       86   4.406\n",
       "4          18419      134   9.375\n",
       "...          ...      ...     ...\n",
       "1092054     9517      132   3.156\n",
       "1092055    27767      118  -1.594\n",
       "1092056    10580       81   2.000\n",
       "1092057    31007      119   8.906\n",
       "1092058     8420       98  -3.344\n",
       "\n",
       "[1092059 rows x 3 columns]"
      ]
     },
     "execution_count": 11,
     "metadata": {},
     "output_type": "execute_result"
    }
   ],
   "source": [
    "data2"
   ]
  },
  {
   "cell_type": "code",
   "execution_count": 12,
   "metadata": {
    "id": "ykEJO1zs9siN"
   },
   "outputs": [
    {
     "data": {
      "text/plain": [
       "user_id    0\n",
       "joke_id    0\n",
       "Rating     0\n",
       "dtype: int64"
      ]
     },
     "execution_count": 12,
     "metadata": {},
     "output_type": "execute_result"
    }
   ],
   "source": [
    "data2.isna().sum()"
   ]
  },
  {
   "cell_type": "code",
   "execution_count": 13,
   "metadata": {
    "id": "UQCrS9_g9yJF"
   },
   "outputs": [],
   "source": [
    "data2 = data2.dropna()"
   ]
  },
  {
   "cell_type": "code",
   "execution_count": 14,
   "metadata": {
    "id": "c7PbkfUh96Mw"
   },
   "outputs": [
    {
     "data": {
      "text/plain": [
       "user_id    0\n",
       "joke_id    0\n",
       "Rating     0\n",
       "dtype: int64"
      ]
     },
     "execution_count": 14,
     "metadata": {},
     "output_type": "execute_result"
    }
   ],
   "source": [
    "data2.isna().sum()"
   ]
  },
  {
   "cell_type": "code",
   "execution_count": 15,
   "metadata": {
    "id": "5HjNcXP_98iE"
   },
   "outputs": [
    {
     "data": {
      "text/plain": [
       "(1092059, 3)"
      ]
     },
     "execution_count": 15,
     "metadata": {},
     "output_type": "execute_result"
    }
   ],
   "source": [
    "data2.shape"
   ]
  },
  {
   "cell_type": "code",
   "execution_count": 16,
   "metadata": {
    "id": "YFcgQNWr-AvK"
   },
   "outputs": [
    {
     "data": {
      "text/plain": [
       "RangeIndex(start=0, stop=1092059, step=1)"
      ]
     },
     "execution_count": 16,
     "metadata": {},
     "output_type": "execute_result"
    }
   ],
   "source": [
    "data2.index"
   ]
  },
  {
   "cell_type": "markdown",
   "metadata": {
    "id": "Z_CXngCmyGFl"
   },
   "source": [
    "##Collobarative filteing"
   ]
  },
  {
   "cell_type": "code",
   "execution_count": 17,
   "metadata": {
    "id": "NQbw0lzzyWdu"
   },
   "outputs": [],
   "source": [
    "#!pip install surprise"
   ]
  },
  {
   "cell_type": "code",
   "execution_count": 18,
   "metadata": {
    "id": "j1f3mJ7FyAAW"
   },
   "outputs": [],
   "source": [
    "from surprise import Reader, Dataset, KNNBasic, SVD"
   ]
  },
  {
   "cell_type": "code",
   "execution_count": 19,
   "metadata": {
    "id": "N7ZVCMhVyAEJ"
   },
   "outputs": [],
   "source": [
    "##### define a reader object\n",
    "#### the reader object helps in parsing the file or dataframe containing ratings"
   ]
  },
  {
   "cell_type": "code",
   "execution_count": 20,
   "metadata": {
    "id": "dyVsXq0uyAHJ"
   },
   "outputs": [],
   "source": [
    "reader = Reader()"
   ]
  },
  {
   "cell_type": "code",
   "execution_count": 21,
   "metadata": {
    "id": "wtnm7aRtyAKb"
   },
   "outputs": [],
   "source": [
    "#### create a the dataset to be used for building the filter"
   ]
  },
  {
   "cell_type": "code",
   "execution_count": 22,
   "metadata": {
    "id": "TX7JQvrnyAMN"
   },
   "outputs": [],
   "source": [
    "joke = Dataset.load_from_df(data2, reader)"
   ]
  },
  {
   "cell_type": "code",
   "execution_count": 23,
   "metadata": {
    "id": "aJtDUeUfyARV"
   },
   "outputs": [
    {
     "data": {
      "text/plain": [
       "<surprise.dataset.DatasetAutoFolds at 0x7fd4053c78b0>"
      ]
     },
     "execution_count": 23,
     "metadata": {},
     "output_type": "execute_result"
    }
   ],
   "source": [
    "joke"
   ]
  },
  {
   "cell_type": "code",
   "execution_count": 24,
   "metadata": {
    "id": "x_bZn3jszxKt"
   },
   "outputs": [],
   "source": [
    "algo = KNNBasic()"
   ]
  },
  {
   "cell_type": "code",
   "execution_count": 25,
   "metadata": {
    "id": "uMOtZS_mzxUj"
   },
   "outputs": [],
   "source": [
    "from surprise.model_selection import cross_validate"
   ]
  },
  {
   "cell_type": "code",
   "execution_count": null,
   "metadata": {
    "id": "tjkRUc1hzxX-"
   },
   "outputs": [],
   "source": [
    "cross_validate(algo, joke, measures = [\"RMSE\"], cv = 5, verbose = True)"
   ]
  },
  {
   "cell_type": "code",
   "execution_count": 27,
   "metadata": {
    "id": "7k6kBp-IzxbU"
   },
   "outputs": [],
   "source": [
    "algo2 = SVD()"
   ]
  },
  {
   "cell_type": "code",
   "execution_count": 28,
   "metadata": {
    "id": "xXRGyq6Y1f-T"
   },
   "outputs": [
    {
     "name": "stdout",
     "output_type": "stream",
     "text": [
      "Evaluating RMSE of algorithm SVD on 5 split(s).\n",
      "\n",
      "                  Fold 1  Fold 2  Fold 3  Fold 4  Fold 5  Mean    Std     \n",
      "RMSE (testset)    4.6505  4.6572  4.6686  4.6601  4.6751  4.6623  0.0086  \n",
      "Fit time          12.02   12.45   11.84   11.83   11.94   12.02   0.23    \n",
      "Test time         2.93    2.67    2.56    2.51    2.85    2.71    0.16    \n"
     ]
    },
    {
     "data": {
      "text/plain": [
       "{'test_rmse': array([4.65047604, 4.65715182, 4.6686212 , 4.66009238, 4.67506472]),\n",
       " 'fit_time': (12.024507999420166,\n",
       "  12.446364879608154,\n",
       "  11.8439199924469,\n",
       "  11.830199241638184,\n",
       "  11.939571857452393),\n",
       " 'test_time': (2.9319369792938232,\n",
       "  2.6729462146759033,\n",
       "  2.562751054763794,\n",
       "  2.5077741146087646,\n",
       "  2.849848747253418)}"
      ]
     },
     "execution_count": 28,
     "metadata": {},
     "output_type": "execute_result"
    }
   ],
   "source": [
    "cross_validate(algo2, joke, measures = [\"RMSE\"], cv = 5, verbose = True)"
   ]
  }
 ],
 "metadata": {
  "colab": {
   "provenance": []
  },
  "kernelspec": {
   "display_name": "Python 3 (ipykernel)",
   "language": "python",
   "name": "python3"
  },
  "language_info": {
   "codemirror_mode": {
    "name": "ipython",
    "version": 3
   },
   "file_extension": ".py",
   "mimetype": "text/x-python",
   "name": "python",
   "nbconvert_exporter": "python",
   "pygments_lexer": "ipython3",
   "version": "3.9.12"
  }
 },
 "nbformat": 4,
 "nbformat_minor": 1
}
